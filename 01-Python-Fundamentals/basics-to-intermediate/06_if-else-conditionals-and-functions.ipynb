{
 "cells": [
  {
   "cell_type": "markdown",
   "id": "9dbbd2e3-bc17-4e34-81b0-36ab3b374ff9",
   "metadata": {},
   "source": [
    "---\n",
    "<h1 style=\"color: #e28743; text-align: center\"> If-elif-else Conditional Statement and Funtions</h1>\n",
    "\n",
    "---"
   ]
  },
  {
   "cell_type": "markdown",
   "id": "f4cc75fc-952f-43e8-b252-dac9c2cf9884",
   "metadata": {},
   "source": [
    "### <span style=\"color: #e28743;\">  If-Else Conditional statement </span>"
   ]
  },
  {
   "cell_type": "markdown",
   "id": "a8d91b7d-5cdd-4a3c-93bc-f7d8a29cd9e5",
   "metadata": {},
   "source": [
    " - Conditional statements allow us to execute code based on certain conditions\n",
    " - Python uses if , elif , and else for decision-making"
   ]
  },
  {
   "cell_type": "markdown",
   "id": "5f6e1b55-92df-4b88-8aaa-90c150d1dbca",
   "metadata": {},
   "source": [
    "*validating user input*"
   ]
  },
  {
   "cell_type": "code",
   "execution_count": 24,
   "id": "6df9f499-8490-406a-8f70-bde68f2bbeca",
   "metadata": {},
   "outputs": [
    {
     "name": "stdin",
     "output_type": "stream",
     "text": [
      "Enter any number: 3.2\n"
     ]
    }
   ],
   "source": [
    "a=input(\"Enter any number:\")"
   ]
  },
  {
   "cell_type": "markdown",
   "id": "61aaa689-c693-474b-810d-ca686f02c8e2",
   "metadata": {},
   "source": [
    "#### validating input with string function using **if-else Ladder**"
   ]
  },
  {
   "cell_type": "code",
   "execution_count": 26,
   "id": "65eccc99-c4b3-4a9e-aade-1b28811588a1",
   "metadata": {},
   "outputs": [
    {
     "name": "stdout",
     "output_type": "stream",
     "text": [
      "inputed value (float) : 3.2\n"
     ]
    }
   ],
   "source": [
    "\n",
    "if (a.isdigit()):    # checking for positive digit only\n",
    "    print(f\"Inputed value (integer) :{a}\")\n",
    "    \n",
    "elif (a.startswith(\"-\")) :  #checking for negative number\n",
    "    print(f\"Inputed value (negative) :{a}\")\n",
    "\n",
    "elif (a.replace(\".\",\"\",1).isdigit()  and a.count(\".\")<2 ):   #filtering and checking for float\n",
    "    print(f\"inputed value (float) : {a}\")\n",
    "    \n",
    "else : \n",
    "    print(\"You've entered a character instead of a number.\")\n"
   ]
  },
  {
   "cell_type": "code",
   "execution_count": null,
   "id": "f33c63ea-965d-44c1-87ab-83c5b5783a39",
   "metadata": {},
   "outputs": [],
   "source": []
  },
  {
   "cell_type": "markdown",
   "id": "a260afb4-57ef-4097-a496-8ee839875f20",
   "metadata": {},
   "source": [
    "### <span style=\"color: #e28743;\">  User Define Funtions </span>"
   ]
  },
  {
   "cell_type": "markdown",
   "id": "ddfab47e-44d7-46de-a241-ee9e46ab4c18",
   "metadata": {},
   "source": [
    "*Functions help in reusability and modularity in Python.*"
   ]
  },
  {
   "cell_type": "code",
   "execution_count": 1,
   "id": "08d1c7f7-86e6-430b-9223-77b3c4557c12",
   "metadata": {},
   "outputs": [],
   "source": [
    "def greet(name):\n",
    "    return f\"Hello ,{name}!\""
   ]
  },
  {
   "cell_type": "code",
   "execution_count": 2,
   "id": "2322a69e-df98-4ef4-97f6-ba381ae8ed08",
   "metadata": {},
   "outputs": [
    {
     "name": "stdout",
     "output_type": "stream",
     "text": [
      "Hello ,Akib Osmani!\n"
     ]
    }
   ],
   "source": [
    "print(greet(\"Akib Osmani\"))"
   ]
  },
  {
   "cell_type": "markdown",
   "id": "970cb4f3-ba8b-49c3-b7ac-9a0b3d928dd3",
   "metadata": {},
   "source": [
    "### <span style=\"color: #e28743;\">Function Arguments & Return Values</span>\n"
   ]
  },
  {
   "cell_type": "code",
   "execution_count": 7,
   "id": "7a4108aa-e738-4795-8c2f-ae8e5a931fff",
   "metadata": {},
   "outputs": [],
   "source": [
    "# Positional argument\n",
    "def  f_arg(a,b):\n",
    "    return f\"{a} explaining functional argument to {b} \"\n"
   ]
  },
  {
   "cell_type": "code",
   "execution_count": 8,
   "id": "74ed28f7-a0bd-4f3b-8585-b8034e0f4b20",
   "metadata": {},
   "outputs": [
    {
     "name": "stdout",
     "output_type": "stream",
     "text": [
      "Akib Osmani explaining functional argument to Recruiter \n"
     ]
    }
   ],
   "source": [
    "print(f_arg(\"Akib Osmani\",\"Recruiter\"))"
   ]
  },
  {
   "cell_type": "code",
   "execution_count": 20,
   "id": "02a86dc4-db77-4f2b-8795-34288778c00b",
   "metadata": {},
   "outputs": [],
   "source": [
    "# Default argument\n",
    "def greet(name=\"Akib Osmani\"): # default argument need to be the last argument\n",
    "    return f\"Hello,{name}\"\n"
   ]
  },
  {
   "cell_type": "code",
   "execution_count": 21,
   "id": "345e4e62-3859-423d-8522-cc0daef84345",
   "metadata": {},
   "outputs": [
    {
     "name": "stdout",
     "output_type": "stream",
     "text": [
      "Hello,Akib Osmani\n"
     ]
    }
   ],
   "source": [
    "print(greet())"
   ]
  },
  {
   "cell_type": "code",
   "execution_count": 18,
   "id": "bf145b21-bcb7-4602-9328-604ec6c8f853",
   "metadata": {},
   "outputs": [],
   "source": [
    "# Keyword argument\n",
    "def student (name,age):\n",
    "    print(f\"Name: {name} , Age:{age}\")\n"
   ]
  },
  {
   "cell_type": "code",
   "execution_count": 19,
   "id": "b159d67c-766e-4956-ae98-3081ac9f0d73",
   "metadata": {},
   "outputs": [
    {
     "name": "stdout",
     "output_type": "stream",
     "text": [
      "Name: Akib Osmani , Age:23\n"
     ]
    }
   ],
   "source": [
    "student(age=23,name=\"Akib Osmani\") # there will be no sequence restrictions"
   ]
  },
  {
   "cell_type": "markdown",
   "id": "a92a32b0-5d52-4348-8e7e-972a658db30e",
   "metadata": {
    "jp-MarkdownHeadingCollapsed": true
   },
   "source": [
    "<div style=\"text-align: center;\">\n",
    "  <h3><span style=\"color: #e28743;\"> The End </span></h3>\n",
    "</div>"
   ]
  }
 ],
 "metadata": {
  "kernelspec": {
   "display_name": "Python 3 (ipykernel)",
   "language": "python",
   "name": "python3"
  },
  "language_info": {
   "codemirror_mode": {
    "name": "ipython",
    "version": 3
   },
   "file_extension": ".py",
   "mimetype": "text/x-python",
   "name": "python",
   "nbconvert_exporter": "python",
   "pygments_lexer": "ipython3",
   "version": "3.13.1"
  }
 },
 "nbformat": 4,
 "nbformat_minor": 5
}
