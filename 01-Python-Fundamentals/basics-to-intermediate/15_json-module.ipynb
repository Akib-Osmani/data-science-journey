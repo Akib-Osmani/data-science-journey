{
 "cells": [
  {
   "cell_type": "markdown",
   "id": "68a79942-f1cc-4e5d-b356-70ad812b7794",
   "metadata": {},
   "source": [
    "---\n",
    "<h1 style=\"color: #e28743; text-align: center\"> JSON MODULE</h1>\n",
    "\n",
    "---"
   ]
  },
  {
   "cell_type": "markdown",
   "id": "4caa6364-001a-493f-86bf-abb7777f841f",
   "metadata": {},
   "source": [
    "*JSON (JavaScript Object Notation) is a lightweight data format used for data exchange between servers and applications.\n",
    "It is widely used in APIs, web applications, and configurations.\n",
    "<br> Python provides the json module to with JSON data.*"
   ]
  },
  {
   "cell_type": "markdown",
   "id": "6af2b939-5069-45bf-a26a-f44033fbefad",
   "metadata": {},
   "source": [
    "<h2 style=\"color: #e28743; text-align: left\"> Converting Python objects to JSON (Serialization) </h2>"
   ]
  },
  {
   "cell_type": "markdown",
   "id": "bb6374da-9b09-4623-a45a-607613913fae",
   "metadata": {},
   "source": [
    "*Serialization (also called **encoding or dumping** ) is coverting a Python object into a JSON-formatted string*"
   ]
  },
  {
   "cell_type": "markdown",
   "id": "728d3575-5c98-4364-a27d-baa464942c6b",
   "metadata": {},
   "source": [
    "## json.dumps() - Convert Python object to JSON string"
   ]
  },
  {
   "cell_type": "code",
   "execution_count": 20,
   "id": "1c82d2e3-3618-448f-a485-8a7530fb473d",
   "metadata": {},
   "outputs": [],
   "source": [
    "import json"
   ]
  },
  {
   "cell_type": "code",
   "execution_count": 29,
   "id": "8ccf59ab-5421-4092-a9ea-0dec7227a7c8",
   "metadata": {},
   "outputs": [
    {
     "name": "stdout",
     "output_type": "stream",
     "text": [
      "{\"name\": \"Akib Osmani\", \"age\": 23, \"city\": \"Dhaka\"}\n"
     ]
    }
   ],
   "source": [
    "data =dict(name=\"Akib Osmani\",age=23,city=\"Dhaka\") # python object (dictionary)\n",
    "\n",
    "json_string=json.dumps(data) # converting JSON format\n",
    "\n",
    "print(json_string)"
   ]
  },
  {
   "cell_type": "code",
   "execution_count": 30,
   "id": "735ad092-47c8-4149-9e5f-bc6222a3eafc",
   "metadata": {},
   "outputs": [
    {
     "data": {
      "text/plain": [
       "str"
      ]
     },
     "execution_count": 30,
     "metadata": {},
     "output_type": "execute_result"
    }
   ],
   "source": [
    "type(json_string)"
   ]
  },
  {
   "cell_type": "markdown",
   "id": "d88c329c-8fba-4595-a32e-b82bb3cdb439",
   "metadata": {},
   "source": [
    "## json.dump() - Write JSON data file"
   ]
  },
  {
   "cell_type": "code",
   "execution_count": 31,
   "id": "74dda84d-be4c-4e47-8916-4c93ffad9c97",
   "metadata": {},
   "outputs": [],
   "source": [
    "data =dict(name=\"Akib Osmani\",age=23,city=\"Dhaka\") # python object (dictionary)\n",
    "\n",
    "with open(\"dumb.json\",\"w\") as f :\n",
    "    json.dump(data,f)"
   ]
  },
  {
   "cell_type": "markdown",
   "id": "f69cde0e-ab1b-4b6d-ad68-dc5374f54829",
   "metadata": {},
   "source": [
    "<h2 style=\"color: #e28743; text-align: left\"> Converting JSON to Python Objects (Deserialization) </h2>"
   ]
  },
  {
   "cell_type": "markdown",
   "id": "f9e7ce13-0ca6-4436-a4b7-383ab3ab0329",
   "metadata": {},
   "source": [
    "*Deserialization (also called **decoding or loading**) is converting JSON-formatted data into Python objects*"
   ]
  },
  {
   "cell_type": "markdown",
   "id": "62189233-cca5-46e7-9aa9-5684668a5642",
   "metadata": {},
   "source": [
    "## json.loads() - Convert JSON string to python object"
   ]
  },
  {
   "cell_type": "code",
   "execution_count": 32,
   "id": "8b0beb99-817e-456e-bb4f-66dadf84001d",
   "metadata": {
    "scrolled": true
   },
   "outputs": [
    {
     "name": "stdout",
     "output_type": "stream",
     "text": [
      "{'name': 'AKIB OSMANI', 'age': '23'}\n",
      "<class 'dict'>\n"
     ]
    }
   ],
   "source": [
    "jsoon_data='{\"name\":\"AKIB OSMANI\",\"age\":\"23\"}' # this is a string \n",
    "\n",
    "py_obj=json.loads(jsoon_data) # loads as dictionary\n",
    "print(py_obj)\n",
    "print(type(py_obj))"
   ]
  },
  {
   "cell_type": "markdown",
   "id": "71589043-d39d-4423-9090-645dde780808",
   "metadata": {},
   "source": [
    "## json.load() - Read JSON data from a file"
   ]
  },
  {
   "cell_type": "code",
   "execution_count": 33,
   "id": "0e7b7334-aebd-45ae-90ca-0ff0990d5986",
   "metadata": {},
   "outputs": [
    {
     "name": "stdout",
     "output_type": "stream",
     "text": [
      "{'name': 'Akib Osmani', 'age': 23, 'city': 'Dhaka'}\n",
      "<class 'dict'>\n"
     ]
    }
   ],
   "source": [
    "with open (\"dumb.json\",\"r\") as file :\n",
    "    py_d=json.load(file)\n",
    "print(py_d)\n",
    "print(type(py_d))"
   ]
  },
  {
   "cell_type": "markdown",
   "id": "c786ac29-24c6-4399-b04a-9bcae82ecb7f",
   "metadata": {},
   "source": [
    "<div style=\"text-align: center;\">\n",
    "  <h3><span style=\"color: #e28743;\"> The End </span></h3>\n",
    "</div>"
   ]
  }
 ],
 "metadata": {
  "kernelspec": {
   "display_name": "Python 3 (ipykernel)",
   "language": "python",
   "name": "python3"
  },
  "language_info": {
   "codemirror_mode": {
    "name": "ipython",
    "version": 3
   },
   "file_extension": ".py",
   "mimetype": "text/x-python",
   "name": "python",
   "nbconvert_exporter": "python",
   "pygments_lexer": "ipython3",
   "version": "3.13.1"
  }
 },
 "nbformat": 4,
 "nbformat_minor": 5
}
