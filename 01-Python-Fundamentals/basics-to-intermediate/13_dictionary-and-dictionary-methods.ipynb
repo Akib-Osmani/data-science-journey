{
 "cells": [
  {
   "cell_type": "markdown",
   "id": "6024dbe6-af7b-42c9-ab62-e20b5380c4a5",
   "metadata": {},
   "source": [
    "---\n",
    "<h1 style=\"color: #e28743; text-align: center\">Python Dictionaries and Dictionary Methods\n",
    "</h1>\n",
    "\n",
    "---"
   ]
  },
  {
   "cell_type": "markdown",
   "id": "62ef96cb-bef7-4ee1-9106-3405afb5688f",
   "metadata": {},
   "source": [
    "### <span style=\"color: #e28743;\">  Dictionaries</span>"
   ]
  },
  {
   "cell_type": "markdown",
   "id": "d9c82a62-c73c-4533-bcd6-869fb765dd57",
   "metadata": {},
   "source": [
    "*A dictionary in Python is an **unordered, mutable and key-value** pair collection. It allows efficient data retrieval and\n",
    "modification.<Br> Dictionaries in Python are **ordered** of Python 3.7*"
   ]
  },
  {
   "cell_type": "markdown",
   "id": "6b16befb-e7f8-4b85-a113-197848a65b96",
   "metadata": {},
   "source": [
    "**Key Properties of Dictionaries:**\n",
    "- Unordered (Python 3.6+ maintains insertion order)\n",
    "- Keys must be unique and immutable (e.g., strings, numbers, tuples)\n",
    "- Values can be mutable and of any type"
   ]
  },
  {
   "cell_type": "markdown",
   "id": "39a3c940-0996-4da4-9ff6-a141d845b060",
   "metadata": {},
   "source": [
    "### <span style=\"color: #e28743;\">  Creating a Dictionary</span>"
   ]
  },
  {
   "cell_type": "code",
   "execution_count": 3,
   "id": "abae6fc6-282a-4486-b053-5d6f1664e162",
   "metadata": {},
   "outputs": [
    {
     "data": {
      "text/plain": [
       "dict"
      ]
     },
     "execution_count": 3,
     "metadata": {},
     "output_type": "execute_result"
    }
   ],
   "source": [
    "# empty dictionary\n",
    "empty_dict={}\n",
    "type(empty_dict)"
   ]
  },
  {
   "cell_type": "code",
   "execution_count": 7,
   "id": "dd6f1bd2-20f3-41f0-bcc2-4fa9222a889c",
   "metadata": {},
   "outputs": [],
   "source": [
    "# dictionary with key value pair\n",
    "student = {\n",
    "    \"name\" : \"AKIB OSMANI\",\n",
    "    \"age\" : 23,\n",
    "    \"city\":\"Dhaka\"\n",
    "}"
   ]
  },
  {
   "cell_type": "code",
   "execution_count": 8,
   "id": "ca8dd255-bf06-42fd-8ea2-6d73e8453dd6",
   "metadata": {},
   "outputs": [],
   "source": [
    "#using dict() constructor\n",
    "person =dict(name=\"AKIB\",age=23,city=\"Dhaka\")"
   ]
  },
  {
   "cell_type": "markdown",
   "id": "d2076d07-aa29-429b-b49c-94025987a434",
   "metadata": {},
   "source": [
    "### <span style=\"color: #e28743;\">  Accessing Dictionary Elements</span>"
   ]
  },
  {
   "cell_type": "code",
   "execution_count": 10,
   "id": "befa1f79-4a30-413b-82e3-03e7c8d037f3",
   "metadata": {},
   "outputs": [
    {
     "data": {
      "text/plain": [
       "23"
      ]
     },
     "execution_count": 10,
     "metadata": {},
     "output_type": "execute_result"
    }
   ],
   "source": [
    "student[\"age\"]"
   ]
  },
  {
   "cell_type": "code",
   "execution_count": 17,
   "id": "cfbaa37c-2e79-4d74-9d44-ef6c068de70f",
   "metadata": {},
   "outputs": [],
   "source": [
    "student[\"age\"]=123"
   ]
  },
  {
   "cell_type": "code",
   "execution_count": 18,
   "id": "2a38b3c5-0ba5-486f-8363-a3b1d05a580b",
   "metadata": {},
   "outputs": [
    {
     "data": {
      "text/plain": [
       "123"
      ]
     },
     "execution_count": 18,
     "metadata": {},
     "output_type": "execute_result"
    }
   ],
   "source": [
    "student.get(\"age\")"
   ]
  },
  {
   "cell_type": "code",
   "execution_count": 13,
   "id": "9acde88c-95a5-4501-8499-3f089828123f",
   "metadata": {},
   "outputs": [
    {
     "ename": "KeyError",
     "evalue": "'EMPTY_KEY_XYZ'",
     "output_type": "error",
     "traceback": [
      "\u001b[1;31m---------------------------------------------------------------------------\u001b[0m",
      "\u001b[1;31mKeyError\u001b[0m                                  Traceback (most recent call last)",
      "Cell \u001b[1;32mIn[13], line 1\u001b[0m\n\u001b[1;32m----> 1\u001b[0m \u001b[43mstudent\u001b[49m\u001b[43m[\u001b[49m\u001b[38;5;124;43m\"\u001b[39;49m\u001b[38;5;124;43mEMPTY_KEY_XYZ\u001b[39;49m\u001b[38;5;124;43m\"\u001b[39;49m\u001b[43m]\u001b[49m \u001b[38;5;66;03m# this will throw an error\u001b[39;00m\n",
      "\u001b[1;31mKeyError\u001b[0m: 'EMPTY_KEY_XYZ'"
     ]
    }
   ],
   "source": [
    "student[\"EMPTY_KEY_XYZ\"] # this will throw an error"
   ]
  },
  {
   "cell_type": "code",
   "execution_count": 16,
   "id": "c77e4449-3334-4fc7-a178-0c42e5e833e7",
   "metadata": {},
   "outputs": [],
   "source": [
    "student.get(\"EMPTY_KEY_XYZ\") # but this will return \"None\""
   ]
  },
  {
   "cell_type": "markdown",
   "id": "fec30719-d4a5-4057-8ead-1e7fe34e0558",
   "metadata": {},
   "source": [
    "### <span style=\"color: #e28743;\">  Dictionary Methods</span>"
   ]
  },
  {
   "cell_type": "code",
   "execution_count": 15,
   "id": "5b7b2cca-d737-4d4e-b54d-5a3d98a8005c",
   "metadata": {},
   "outputs": [],
   "source": [
    "student_AKIB = {\n",
    "    \"name\" : \"AKIB OSMANI\",\n",
    "    \"age\" : 23,\n",
    "    \"city\":\"Dhaka\"\n",
    "}"
   ]
  },
  {
   "cell_type": "code",
   "execution_count": 26,
   "id": "d4ba4389-4ff5-48d1-bb47-5e16116f0167",
   "metadata": {},
   "outputs": [
    {
     "data": {
      "text/plain": [
       "dict_keys(['name', 'age', 'city'])"
      ]
     },
     "execution_count": 26,
     "metadata": {},
     "output_type": "execute_result"
    }
   ],
   "source": [
    "student_AKIB.keys()"
   ]
  },
  {
   "cell_type": "code",
   "execution_count": 22,
   "id": "9af536f7-713a-4577-99fd-7410b484cc31",
   "metadata": {},
   "outputs": [
    {
     "data": {
      "text/plain": [
       "dict_values(['AKIB OSMANI', 23, 'Dhaka'])"
      ]
     },
     "execution_count": 22,
     "metadata": {},
     "output_type": "execute_result"
    }
   ],
   "source": [
    "student_AKIB.values()"
   ]
  },
  {
   "cell_type": "code",
   "execution_count": 27,
   "id": "2a5a4b40-f34b-464b-ba34-2439504e169a",
   "metadata": {},
   "outputs": [
    {
     "data": {
      "text/plain": [
       "dict_items([('name', 'AKIB OSMANI'), ('age', 23), ('city', 'Dhaka')])"
      ]
     },
     "execution_count": 27,
     "metadata": {},
     "output_type": "execute_result"
    }
   ],
   "source": [
    "student_AKIB.items() # return tupple pairs"
   ]
  },
  {
   "cell_type": "code",
   "execution_count": 30,
   "id": "aaaa8c57-de89-43ec-b944-daaec2f9da75",
   "metadata": {},
   "outputs": [
    {
     "name": "stdout",
     "output_type": "stream",
     "text": [
      "{'name': 'AKIB OSMANI', 'age': 23, 'city': 'Dhaka'}\n",
      "{'uni': 'AIUB', 'year': 2}\n"
     ]
    }
   ],
   "source": [
    "student_AKIB = {\n",
    "    \"name\" : \"AKIB OSMANI\",\n",
    "    \"age\" : 23,\n",
    "    \"city\":\"Dhaka\"\n",
    "}\n",
    "student_uni=dict(uni=\"AIUB\",year=2)\n",
    "print(student_AKIB)\n",
    "print(student_uni)\n"
   ]
  },
  {
   "cell_type": "code",
   "execution_count": 31,
   "id": "9e8c0471-4e99-4ecb-9a5c-944690b67545",
   "metadata": {},
   "outputs": [],
   "source": [
    "student_AKIB.update(student_uni)"
   ]
  },
  {
   "cell_type": "code",
   "execution_count": 32,
   "id": "ec30fef0-0c67-446e-bf95-41cf2c77a60e",
   "metadata": {},
   "outputs": [
    {
     "data": {
      "text/plain": [
       "{'name': 'AKIB OSMANI', 'age': 23, 'city': 'Dhaka', 'uni': 'AIUB', 'year': 2}"
      ]
     },
     "execution_count": 32,
     "metadata": {},
     "output_type": "execute_result"
    }
   ],
   "source": [
    "student_AKIB"
   ]
  },
  {
   "cell_type": "code",
   "execution_count": 36,
   "id": "65658bc6-7141-4872-8ebe-74cec1177272",
   "metadata": {},
   "outputs": [
    {
     "data": {
      "text/plain": [
       "2"
      ]
     },
     "execution_count": 36,
     "metadata": {},
     "output_type": "execute_result"
    }
   ],
   "source": [
    "#  removing with key value\n",
    "student_AKIB.pop(\"year\")"
   ]
  },
  {
   "cell_type": "code",
   "execution_count": 37,
   "id": "b00305eb-03e5-4daa-a814-97ff474019b9",
   "metadata": {},
   "outputs": [
    {
     "data": {
      "text/plain": [
       "{'name': 'AKIB OSMANI', 'age': 23, 'city': 'Dhaka', 'uni': 'AIUB'}"
      ]
     },
     "execution_count": 37,
     "metadata": {},
     "output_type": "execute_result"
    }
   ],
   "source": [
    "student_AKIB"
   ]
  },
  {
   "cell_type": "code",
   "execution_count": 38,
   "id": "92e80347-4a64-4ffc-a70d-e48c7ea9239d",
   "metadata": {},
   "outputs": [
    {
     "data": {
      "text/plain": [
       "('uni', 'AIUB')"
      ]
     },
     "execution_count": 38,
     "metadata": {},
     "output_type": "execute_result"
    }
   ],
   "source": [
    "# removing last inserted value\n",
    "student_AKIB.popitem()"
   ]
  },
  {
   "cell_type": "code",
   "execution_count": 39,
   "id": "a11aeac7-c639-45aa-842d-cffe295b22ba",
   "metadata": {},
   "outputs": [
    {
     "data": {
      "text/plain": [
       "{'name': 'AKIB OSMANI', 'age': 23, 'city': 'Dhaka'}"
      ]
     },
     "execution_count": 39,
     "metadata": {},
     "output_type": "execute_result"
    }
   ],
   "source": [
    " student_AKIB"
   ]
  },
  {
   "cell_type": "code",
   "execution_count": 46,
   "id": "9c0188ae-dd80-4262-9759-48ccf8eab100",
   "metadata": {},
   "outputs": [],
   "source": [
    "student_AKIB.update({\"Extra_key\":\"\"})"
   ]
  },
  {
   "cell_type": "code",
   "execution_count": 47,
   "id": "9255ca2d-00f5-4bf0-b877-718e7bc9bb3b",
   "metadata": {},
   "outputs": [
    {
     "data": {
      "text/plain": [
       "{'name': 'AKIB OSMANI', 'age': 23, 'city': 'Dhaka', 'Extra_key': ''}"
      ]
     },
     "execution_count": 47,
     "metadata": {},
     "output_type": "execute_result"
    }
   ],
   "source": [
    "student_AKIB"
   ]
  },
  {
   "cell_type": "code",
   "execution_count": 49,
   "id": "30b1fdb0-3b53-4d29-b5a7-7edb8177f6b4",
   "metadata": {},
   "outputs": [
    {
     "data": {
      "text/plain": [
       "'AKIB OSMANI'"
      ]
     },
     "execution_count": 49,
     "metadata": {},
     "output_type": "execute_result"
    }
   ],
   "source": [
    "student_AKIB.setdefault(\"name\")"
   ]
  },
  {
   "cell_type": "code",
   "execution_count": 50,
   "id": "3075e17a-2f1d-449a-8cc4-98453a5788ad",
   "metadata": {},
   "outputs": [
    {
     "data": {
      "text/plain": [
       "'so_it_will_push_it'"
      ]
     },
     "execution_count": 50,
     "metadata": {},
     "output_type": "execute_result"
    }
   ],
   "source": [
    "student_AKIB.setdefault(\"key_is_not_present\",\"so_it_will_push_it\")"
   ]
  },
  {
   "cell_type": "code",
   "execution_count": 51,
   "id": "81716ee1-d5a6-4319-856e-a6ac81f10433",
   "metadata": {},
   "outputs": [
    {
     "data": {
      "text/plain": [
       "{'name': 'AKIB OSMANI',\n",
       " 'age': 23,\n",
       " 'city': 'Dhaka',\n",
       " 'Extra_key': '',\n",
       " 'AKIB OSMANI': None,\n",
       " 'key_is_not_present': 'so_it_will_push_it'}"
      ]
     },
     "execution_count": 51,
     "metadata": {},
     "output_type": "execute_result"
    }
   ],
   "source": [
    "student_AKIB"
   ]
  },
  {
   "cell_type": "code",
   "execution_count": 54,
   "id": "29cea6ad-5f49-40ac-a689-1679d11f0b96",
   "metadata": {},
   "outputs": [],
   "source": [
    "st=student_AKIB.copy()"
   ]
  },
  {
   "cell_type": "code",
   "execution_count": 55,
   "id": "b58c07de-a2fb-4f8f-a31e-cddc2899169a",
   "metadata": {},
   "outputs": [
    {
     "data": {
      "text/plain": [
       "{'name': 'AKIB OSMANI',\n",
       " 'age': 23,\n",
       " 'city': 'Dhaka',\n",
       " 'Extra_key': '',\n",
       " 'AKIB OSMANI': None,\n",
       " 'key_is_not_present': 'so_it_will_push_it'}"
      ]
     },
     "execution_count": 55,
     "metadata": {},
     "output_type": "execute_result"
    }
   ],
   "source": [
    "st"
   ]
  },
  {
   "cell_type": "code",
   "execution_count": 56,
   "id": "548912bf-d4fe-4b81-b3f8-168fc8c11d11",
   "metadata": {},
   "outputs": [],
   "source": [
    "st.clear()\n",
    "student_AKIB.clear()"
   ]
  },
  {
   "cell_type": "code",
   "execution_count": 57,
   "id": "154d9657-2b2e-4724-bf62-db00a95d20e6",
   "metadata": {},
   "outputs": [
    {
     "data": {
      "text/plain": [
       "{}"
      ]
     },
     "execution_count": 57,
     "metadata": {},
     "output_type": "execute_result"
    }
   ],
   "source": [
    "student_AKIB"
   ]
  },
  {
   "cell_type": "code",
   "execution_count": 58,
   "id": "b8003d8c-fc73-474b-b893-ecb4c9b7283d",
   "metadata": {},
   "outputs": [
    {
     "data": {
      "text/plain": [
       "{}"
      ]
     },
     "execution_count": 58,
     "metadata": {},
     "output_type": "execute_result"
    }
   ],
   "source": [
    "st"
   ]
  },
  {
   "cell_type": "markdown",
   "id": "6aff19b2-0fa4-47a1-954e-1afbcfeea01c",
   "metadata": {},
   "source": [
    "<div style=\"text-align: center;\">\n",
    "  <h3><span style=\"color: #e28743;\"> The End </span></h3>\n",
    "</div>"
   ]
  }
 ],
 "metadata": {
  "kernelspec": {
   "display_name": "Python 3 (ipykernel)",
   "language": "python",
   "name": "python3"
  },
  "language_info": {
   "codemirror_mode": {
    "name": "ipython",
    "version": 3
   },
   "file_extension": ".py",
   "mimetype": "text/x-python",
   "name": "python",
   "nbconvert_exporter": "python",
   "pygments_lexer": "ipython3",
   "version": "3.13.1"
  }
 },
 "nbformat": 4,
 "nbformat_minor": 5
}
