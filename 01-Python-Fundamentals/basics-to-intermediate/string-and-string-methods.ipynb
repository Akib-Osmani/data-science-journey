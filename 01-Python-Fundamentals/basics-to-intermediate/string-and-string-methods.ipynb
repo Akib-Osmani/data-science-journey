{
 "cells": [
  {
   "cell_type": "markdown",
   "id": "8e73c78b-6228-4121-b482-0eceffb5d692",
   "metadata": {},
   "source": [
    "---\n",
    "# <span style=\"color: #e28743;\">String and String-Methods in Python</span>\n",
    "---"
   ]
  },
  {
   "cell_type": "markdown",
   "id": "945fd956-04a8-41b3-9ebc-f5535040bf6e",
   "metadata": {},
   "source": [
    " *String is a sequence of characters*"
   ]
  },
  {
   "cell_type": "code",
   "execution_count": 1,
   "id": "9ce1a7cb-75b0-4840-b600-0e8732504b67",
   "metadata": {},
   "outputs": [
    {
     "data": {
      "text/plain": [
       "'Akib osmani'"
      ]
     },
     "execution_count": 1,
     "metadata": {},
     "output_type": "execute_result"
    }
   ],
   "source": [
    "name = \"Akib osmani\"\n",
    "name"
   ]
  },
  {
   "cell_type": "markdown",
   "id": "cc2a7dfe-abfa-4078-8072-dce99085d39c",
   "metadata": {},
   "source": [
    "## <span style=\"color: #e28743;\"> String Methods </span>"
   ]
  },
  {
   "cell_type": "code",
   "execution_count": 2,
   "id": "3a346943-35da-4a3e-bc43-1150d4cc63d6",
   "metadata": {},
   "outputs": [
    {
     "data": {
      "text/plain": [
       "'AKIB OSMANI'"
      ]
     },
     "execution_count": 2,
     "metadata": {},
     "output_type": "execute_result"
    }
   ],
   "source": [
    "name.upper() # to capitalize the letters"
   ]
  },
  {
   "cell_type": "code",
   "execution_count": 3,
   "id": "6e998ef9-ac33-472b-aacc-d8b5cef8d1e0",
   "metadata": {},
   "outputs": [
    {
     "data": {
      "text/plain": [
       "'akib osmani'"
      ]
     },
     "execution_count": 3,
     "metadata": {},
     "output_type": "execute_result"
    }
   ],
   "source": [
    "name.lower() # to lowercasing the letters"
   ]
  },
  {
   "cell_type": "code",
   "execution_count": 4,
   "id": "3fd6b0bb-caf6-4aa6-a54a-4104916ed64a",
   "metadata": {},
   "outputs": [
    {
     "data": {
      "text/plain": [
       "False"
      ]
     },
     "execution_count": 4,
     "metadata": {},
     "output_type": "execute_result"
    }
   ],
   "source": [
    "name.endswith(\"NI\") #here name = Akib Osmani"
   ]
  },
  {
   "cell_type": "code",
   "execution_count": 5,
   "id": "2a0b2804-dbcc-4d91-8362-c58e581314d6",
   "metadata": {},
   "outputs": [
    {
     "data": {
      "text/plain": [
       "11"
      ]
     },
     "execution_count": 5,
     "metadata": {},
     "output_type": "execute_result"
    }
   ],
   "source": [
    "len(name) #length of the string (includes whitespace)"
   ]
  },
  {
   "cell_type": "code",
   "execution_count": 6,
   "id": "4d4960c0-6717-4129-b754-5ec8ebe1d293",
   "metadata": {},
   "outputs": [
    {
     "data": {
      "text/plain": [
       "1"
      ]
     },
     "execution_count": 6,
     "metadata": {},
     "output_type": "execute_result"
    }
   ],
   "source": [
    "name.count(\"a\") # 'a' appears one times in \"Akib osmani\""
   ]
  },
  {
   "cell_type": "code",
   "execution_count": 7,
   "id": "dd471a7a-69ad-4999-8ff4-9fb4a46401c7",
   "metadata": {},
   "outputs": [
    {
     "data": {
      "text/plain": [
       "'Akib Osmani'"
      ]
     },
     "execution_count": 7,
     "metadata": {},
     "output_type": "execute_result"
    }
   ],
   "source": [
    "another_name=\"  Akib Osmani  \"\n",
    "another_name.strip() # [ usage: Cleaning user entered text]"
   ]
  },
  {
   "cell_type": "code",
   "execution_count": 8,
   "id": "539eb116-11d9-4928-9bc5-19530235cd22",
   "metadata": {},
   "outputs": [
    {
     "data": {
      "text/plain": [
       "['akib', '24', 'Dhaka']"
      ]
     },
     "execution_count": 8,
     "metadata": {},
     "output_type": "execute_result"
    }
   ],
   "source": [
    "string_dumb=\"akib,24,Dhaka\" # [ usage: refactoring string data dumb]\n",
    "string_dumb.split(\",\")"
   ]
  },
  {
   "cell_type": "code",
   "execution_count": 9,
   "id": "e8e5b626-ef35-4097-8de2-9a4f81f42c81",
   "metadata": {},
   "outputs": [],
   "source": [
    "# string slicing"
   ]
  },
  {
   "cell_type": "code",
   "execution_count": 12,
   "id": "1d81d574-4372-483d-af55-e8602dae406c",
   "metadata": {},
   "outputs": [
    {
     "name": "stdout",
     "output_type": "stream",
     "text": [
      "Akib\n"
     ]
    }
   ],
   "source": [
    "print(name[0:4]) # from 1st character to 4th character of \"Akib Osmani\""
   ]
  },
  {
   "cell_type": "code",
   "execution_count": 13,
   "id": "94cc45ed-63c2-4dcc-b4fd-89e2b0fcba18",
   "metadata": {},
   "outputs": [
    {
     "data": {
      "text/plain": [
       "'Akib os'"
      ]
     },
     "execution_count": 13,
     "metadata": {},
     "output_type": "execute_result"
    }
   ],
   "source": [
    "name[0:-4] # negative slicing from backward [included:excluded]"
   ]
  },
  {
   "cell_type": "markdown",
   "id": "079ec711-755b-48d8-a1ec-a32e32e201b2",
   "metadata": {},
   "source": [
    "We can convert the negative-slicing to positive-slicing by \n",
    " *by adding up the length in both index*"
   ]
  },
  {
   "cell_type": "code",
   "execution_count": 20,
   "id": "4116a065-6385-4029-832c-3d3fd56d113e",
   "metadata": {},
   "outputs": [
    {
     "name": "stdout",
     "output_type": "stream",
     "text": [
      "osman\n"
     ]
    }
   ],
   "source": [
    "print(name[-6:-1]) # from backword 6th letters to last letter"
   ]
  },
  {
   "cell_type": "code",
   "execution_count": 24,
   "id": "faca5ce0-6f1f-425a-a12b-bdfa5a144174",
   "metadata": {},
   "outputs": [
    {
     "name": "stdout",
     "output_type": "stream",
     "text": [
      "osman\n"
     ]
    }
   ],
   "source": [
    "print(name[-6+len(name) : -1 +len(name) ]) # similar to name[5:10]"
   ]
  },
  {
   "cell_type": "markdown",
   "id": "73e75fa5-70a5-4c37-aa20-b93f56d292c4",
   "metadata": {},
   "source": [
    " *and many more built-in functions*"
   ]
  },
  {
   "cell_type": "markdown",
   "id": "ce81e4ce-add7-4a27-8d0c-760bbe0ad3af",
   "metadata": {},
   "source": [
    "<div style=\"text-align: center;\">\n",
    "  <h3><span style=\"color: #e28743;\"> The End </span></h3>\n",
    "</div>"
   ]
  },
  {
   "cell_type": "code",
   "execution_count": null,
   "id": "ab583e96-618b-43ab-bde4-ef9f7b8ab5e5",
   "metadata": {},
   "outputs": [],
   "source": []
  }
 ],
 "metadata": {
  "kernelspec": {
   "display_name": "Python 3 (ipykernel)",
   "language": "python",
   "name": "python3"
  },
  "language_info": {
   "codemirror_mode": {
    "name": "ipython",
    "version": 3
   },
   "file_extension": ".py",
   "mimetype": "text/x-python",
   "name": "python",
   "nbconvert_exporter": "python",
   "pygments_lexer": "ipython3",
   "version": "3.13.1"
  }
 },
 "nbformat": 4,
 "nbformat_minor": 5
}
