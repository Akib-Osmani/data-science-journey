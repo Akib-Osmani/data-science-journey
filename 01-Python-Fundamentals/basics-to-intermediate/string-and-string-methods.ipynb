{
 "cells": [
  {
   "cell_type": "markdown",
   "id": "8e73c78b-6228-4121-b482-0eceffb5d692",
   "metadata": {},
   "source": [
    "---\n",
    "# <span style=\"color: #e28743;\">String and String-Methods in Python</span>\n",
    "---"
   ]
  },
  {
   "cell_type": "markdown",
   "id": "945fd956-04a8-41b3-9ebc-f5535040bf6e",
   "metadata": {},
   "source": [
    " *String is a sequence of characters*"
   ]
  },
  {
   "cell_type": "code",
   "execution_count": 1,
   "id": "9ce1a7cb-75b0-4840-b600-0e8732504b67",
   "metadata": {},
   "outputs": [
    {
     "data": {
      "text/plain": [
       "'Akib osmani'"
      ]
     },
     "execution_count": 1,
     "metadata": {},
     "output_type": "execute_result"
    }
   ],
   "source": [
    "name = \"Akib osmani\"\n",
    "name"
   ]
  },
  {
   "cell_type": "markdown",
   "id": "cc2a7dfe-abfa-4078-8072-dce99085d39c",
   "metadata": {},
   "source": [
    "## String Methods"
   ]
  },
  {
   "cell_type": "code",
   "execution_count": 2,
   "id": "3a346943-35da-4a3e-bc43-1150d4cc63d6",
   "metadata": {},
   "outputs": [
    {
     "data": {
      "text/plain": [
       "'AKIB OSMANI'"
      ]
     },
     "execution_count": 2,
     "metadata": {},
     "output_type": "execute_result"
    }
   ],
   "source": [
    "name.upper() # to capitalize the letters"
   ]
  },
  {
   "cell_type": "code",
   "execution_count": 3,
   "id": "6e998ef9-ac33-472b-aacc-d8b5cef8d1e0",
   "metadata": {},
   "outputs": [
    {
     "data": {
      "text/plain": [
       "'akib osmani'"
      ]
     },
     "execution_count": 3,
     "metadata": {},
     "output_type": "execute_result"
    }
   ],
   "source": [
    "name.lower() # to lowercasing the letters"
   ]
  },
  {
   "cell_type": "code",
   "execution_count": 4,
   "id": "3fd6b0bb-caf6-4aa6-a54a-4104916ed64a",
   "metadata": {},
   "outputs": [
    {
     "data": {
      "text/plain": [
       "False"
      ]
     },
     "execution_count": 4,
     "metadata": {},
     "output_type": "execute_result"
    }
   ],
   "source": [
    "name.endswith(\"NI\") #here name = Akib Osmani"
   ]
  },
  {
   "cell_type": "code",
   "execution_count": 5,
   "id": "2a0b2804-dbcc-4d91-8362-c58e581314d6",
   "metadata": {},
   "outputs": [
    {
     "data": {
      "text/plain": [
       "11"
      ]
     },
     "execution_count": 5,
     "metadata": {},
     "output_type": "execute_result"
    }
   ],
   "source": [
    "len(name) #length of the string (includes whitespace)"
   ]
  },
  {
   "cell_type": "code",
   "execution_count": 6,
   "id": "4d4960c0-6717-4129-b754-5ec8ebe1d293",
   "metadata": {},
   "outputs": [
    {
     "data": {
      "text/plain": [
       "1"
      ]
     },
     "execution_count": 6,
     "metadata": {},
     "output_type": "execute_result"
    }
   ],
   "source": [
    "name.count(\"a\") # 'a' appears one times in \"Akib osmani\""
   ]
  },
  {
   "cell_type": "code",
   "execution_count": null,
   "id": "dd471a7a-69ad-4999-8ff4-9fb4a46401c7",
   "metadata": {},
   "outputs": [],
   "source": []
  }
 ],
 "metadata": {
  "kernelspec": {
   "display_name": "Python 3 (ipykernel)",
   "language": "python",
   "name": "python3"
  },
  "language_info": {
   "codemirror_mode": {
    "name": "ipython",
    "version": 3
   },
   "file_extension": ".py",
   "mimetype": "text/x-python",
   "name": "python",
   "nbconvert_exporter": "python",
   "pygments_lexer": "ipython3",
   "version": "3.13.1"
  }
 },
 "nbformat": 4,
 "nbformat_minor": 5
}
