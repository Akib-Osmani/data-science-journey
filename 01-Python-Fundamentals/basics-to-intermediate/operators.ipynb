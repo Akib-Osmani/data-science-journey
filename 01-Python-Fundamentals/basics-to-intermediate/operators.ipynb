{
 "cells": [
  {
   "cell_type": "markdown",
   "id": "073e69e1-767e-493f-934c-57e680f9bf86",
   "metadata": {},
   "source": [
    "---\n",
    "# <span style=\"color: #e28743;\">Operators in Python</span>\n",
    "---"
   ]
  },
  {
   "cell_type": "markdown",
   "id": "81a70d62-11c3-44e5-a594-be35b26349b9",
   "metadata": {},
   "source": [
    "### <span style=\"color: #e28743;\"> Arithmetic Operators  </span>"
   ]
  },
  {
   "cell_type": "raw",
   "id": "96321854-705a-47ad-8573-d4ccb0ad8b60",
   "metadata": {},
   "source": [
    "    '+' (Addition), '-' (Subtraction), '*' (Multiplication), '/' (Division), '%' (Modulus),    '      **'(Exponentiation), '//' (Floor Division)."
   ]
  },
  {
   "cell_type": "code",
   "execution_count": 3,
   "id": "ec481351-60a5-4a1b-89c8-c5141f5743be",
   "metadata": {},
   "outputs": [
    {
     "name": "stdout",
     "output_type": "stream",
     "text": [
      "15\n"
     ]
    }
   ],
   "source": [
    "a=5;b=10\n"
   ]
  },
  {
   "cell_type": "code",
   "execution_count": 6,
   "id": "31c0a1dd-ed6c-4d4e-a93a-1017fcfd4209",
   "metadata": {},
   "outputs": [
    {
     "name": "stdout",
     "output_type": "stream",
     "text": [
      "15\n"
     ]
    }
   ],
   "source": [
    "print(a+b) \n"
   ]
  },
  {
   "cell_type": "code",
   "execution_count": 7,
   "id": "61c4833f-22e1-49f0-ab3a-5bc60caf2fde",
   "metadata": {},
   "outputs": [
    {
     "name": "stdout",
     "output_type": "stream",
     "text": [
      "-5\n"
     ]
    }
   ],
   "source": [
    "print(a-b)"
   ]
  },
  {
   "cell_type": "code",
   "execution_count": 8,
   "id": "31573476-b555-437b-920c-2fd123059365",
   "metadata": {},
   "outputs": [
    {
     "name": "stdout",
     "output_type": "stream",
     "text": [
      "50\n"
     ]
    }
   ],
   "source": [
    "print(a*b)"
   ]
  },
  {
   "cell_type": "code",
   "execution_count": 9,
   "id": "9a8a6f00-324c-4b54-99ff-176e568ba0e2",
   "metadata": {},
   "outputs": [
    {
     "name": "stdout",
     "output_type": "stream",
     "text": [
      "2.0\n"
     ]
    }
   ],
   "source": [
    "print(b/a) # in python it will return floating number (even numbers are integer)\n"
   ]
  },
  {
   "cell_type": "code",
   "execution_count": 10,
   "id": "5f69b665-8ece-4f13-99fc-b07ae9349eb2",
   "metadata": {},
   "outputs": [
    {
     "name": "stdout",
     "output_type": "stream",
     "text": [
      "5\n"
     ]
    }
   ],
   "source": [
    "print(a%b) # 5%10 => 10 | 5 | 0  => remainder = 5 "
   ]
  },
  {
   "cell_type": "code",
   "execution_count": 11,
   "id": "a4fe5491-937a-429d-bed2-4ab81a6cc48b",
   "metadata": {},
   "outputs": [
    {
     "name": "stdout",
     "output_type": "stream",
     "text": [
      "9765625\n"
     ]
    }
   ],
   "source": [
    "print(a**b)"
   ]
  },
  {
   "cell_type": "code",
   "execution_count": 16,
   "id": "7fc6eccb-7894-4aff-a1d2-ac46cf487a00",
   "metadata": {},
   "outputs": [
    {
     "name": "stdout",
     "output_type": "stream",
     "text": [
      "3.3333333333333335\n",
      "3\n"
     ]
    }
   ],
   "source": [
    "x=10;y=3\n",
    "print(x/y) # proper division\n",
    "print(x//y) # floor division , eliminates decimal points"
   ]
  },
  {
   "cell_type": "markdown",
   "id": "a4c8c70e-2da1-4440-a2be-a70464c5b127",
   "metadata": {},
   "source": [
    "### <span style=\"color: #e28743;\">Comparison Operators </span>"
   ]
  },
  {
   "cell_type": "raw",
   "id": "12690acb-d830-4cd8-b543-0455722f5001",
   "metadata": {},
   "source": [
    "    == (Equal), != (Not Equal), > (Greater Than), < (Less Than), >=\n",
    "    (Greater Than or Equal), <= (Less Than or Equal)."
   ]
  },
  {
   "cell_type": "code",
   "execution_count": 17,
   "id": "fba5f72f-b8fb-4d36-8104-f378687de00c",
   "metadata": {},
   "outputs": [
    {
     "name": "stdout",
     "output_type": "stream",
     "text": [
      "True\n"
     ]
    }
   ],
   "source": [
    "print(10>5)"
   ]
  },
  {
   "cell_type": "code",
   "execution_count": 18,
   "id": "6dfc1711-6fb1-45fc-a874-055c1882e660",
   "metadata": {},
   "outputs": [
    {
     "name": "stdout",
     "output_type": "stream",
     "text": [
      "True\n"
     ]
    }
   ],
   "source": [
    "print(10!=0)"
   ]
  },
  {
   "cell_type": "code",
   "execution_count": 21,
   "id": "1428e878-f082-4852-9ca5-6b0837311452",
   "metadata": {},
   "outputs": [
    {
     "name": "stdout",
     "output_type": "stream",
     "text": [
      "False\n",
      "True\n"
     ]
    }
   ],
   "source": [
    "print(\"akib\"==\"Akib\")\n",
    "print(\"akib\"!=\"Akib\")\n"
   ]
  },
  {
   "cell_type": "code",
   "execution_count": 25,
   "id": "37d72910-7b1b-4e7e-99c9-60ff2b1fca0a",
   "metadata": {},
   "outputs": [
    {
     "name": "stdout",
     "output_type": "stream",
     "text": [
      "True\n",
      "False\n"
     ]
    }
   ],
   "source": [
    "print(10>=10) # if any one of them becomes true returns true\n",
    "print(11<=10)"
   ]
  },
  {
   "cell_type": "markdown",
   "id": "a9c5ddfe-ba57-4135-9cf9-ba4ccf4f57ec",
   "metadata": {},
   "source": [
    "### <span style=\"color: #e28743;\"> Logical Operators  </span>"
   ]
  },
  {
   "cell_type": "raw",
   "id": "71b184e9-c449-499d-b273-7bb64916fdf6",
   "metadata": {},
   "source": [
    "    and , or, not"
   ]
  },
  {
   "cell_type": "code",
   "execution_count": null,
   "id": "1e983c2f-dd5c-419b-9583-a50c982dec71",
   "metadata": {},
   "outputs": [],
   "source": [
    "# consider True=1, False = 0 ,and = \"*\""
   ]
  },
  {
   "cell_type": "code",
   "execution_count": 31,
   "id": "1ad0a114-c3af-45b4-9fcc-cb321b1a09da",
   "metadata": {},
   "outputs": [
    {
     "name": "stdout",
     "output_type": "stream",
     "text": [
      "False\n"
     ]
    }
   ],
   "source": [
    "print(True and False) # so 1*0 =0=false"
   ]
  },
  {
   "cell_type": "code",
   "execution_count": 32,
   "id": "a91879e1-4369-4501-963d-b71faa7c8883",
   "metadata": {},
   "outputs": [
    {
     "name": "stdout",
     "output_type": "stream",
     "text": [
      "True\n"
     ]
    }
   ],
   "source": [
    "print(True or False) # so 1 or 0 , always pick True if it appears once in blue moon though  "
   ]
  },
  {
   "cell_type": "code",
   "execution_count": 30,
   "id": "95de17b0-d343-45ba-9a8a-201efbe9789d",
   "metadata": {},
   "outputs": [
    {
     "name": "stdout",
     "output_type": "stream",
     "text": [
      "False\n"
     ]
    }
   ],
   "source": [
    "print(not True) "
   ]
  },
  {
   "cell_type": "markdown",
   "id": "da3bedfc-6901-4b87-88fc-81a85daba319",
   "metadata": {},
   "source": [
    "### <span style=\"color: #e28743;\">Assignment Operators </span>"
   ]
  },
  {
   "cell_type": "raw",
   "id": "095bda58-cdb0-4c3d-a517-61e11a6635f8",
   "metadata": {},
   "source": [
    "    = , += , -= , *= , /= , %= , **= , //"
   ]
  },
  {
   "cell_type": "code",
   "execution_count": 36,
   "id": "18fb9bf8-0622-432d-b9eb-5d928ff99316",
   "metadata": {},
   "outputs": [
    {
     "name": "stdout",
     "output_type": "stream",
     "text": [
      "15\n"
     ]
    }
   ],
   "source": [
    "x=10\n",
    "x+=5 # means x = x+5 =10 +5\n",
    "print(x)"
   ]
  },
  {
   "cell_type": "markdown",
   "id": "c28646cb-3551-4a69-a999-d29d1668e97b",
   "metadata": {},
   "source": [
    "### <span style=\"color: #e28743;\">Membership Operators </span>"
   ]
  },
  {
   "cell_type": "raw",
   "id": "d1ba82b4-b088-430b-ade5-1bc82e2c3642",
   "metadata": {},
   "source": [
    "    in , not in"
   ]
  },
  {
   "cell_type": "code",
   "execution_count": 38,
   "id": "f05c5b91-d2cd-4566-908f-3a40b0d45777",
   "metadata": {},
   "outputs": [
    {
     "name": "stdout",
     "output_type": "stream",
     "text": [
      "True\n"
     ]
    }
   ],
   "source": [
    "names=[\"akib\",\"osmani\",\"23\"]\n",
    "print(\"akib\" in names)"
   ]
  },
  {
   "cell_type": "markdown",
   "id": "42f62c36-467b-4542-aa83-6bfa64c96c64",
   "metadata": {},
   "source": [
    "### <span style=\"color: #e28743;\">Identity Operators </span>"
   ]
  },
  {
   "cell_type": "raw",
   "id": "ddb9f8e2-f2d4-49a9-9368-2099d3cf88df",
   "metadata": {},
   "source": [
    "    is , is not"
   ]
  },
  {
   "cell_type": "code",
   "execution_count": 42,
   "id": "471bbcb1-27fe-4a51-8fce-4062e6b4483a",
   "metadata": {},
   "outputs": [],
   "source": [
    "x=11\n",
    "y=11"
   ]
  },
  {
   "cell_type": "code",
   "execution_count": 43,
   "id": "526a1398-b1af-4251-8147-80849ce3f93f",
   "metadata": {},
   "outputs": [
    {
     "name": "stdout",
     "output_type": "stream",
     "text": [
      "True\n",
      "False\n"
     ]
    }
   ],
   "source": [
    "print(x is y)\n",
    "print(x is not y)"
   ]
  },
  {
   "cell_type": "markdown",
   "id": "3cde26c3-3fae-4ddf-9919-eab502aa46d2",
   "metadata": {},
   "source": [
    "<div style=\"text-align: center;\">\n",
    "  <h3><span style=\"color: #e28743;\"> The End </span></h3>\n",
    "</div>"
   ]
  },
  {
   "cell_type": "code",
   "execution_count": null,
   "id": "838e7a2c-ed77-44a2-8d7b-1f933cf9e87d",
   "metadata": {},
   "outputs": [],
   "source": []
  }
 ],
 "metadata": {
  "kernelspec": {
   "display_name": "Python 3 (ipykernel)",
   "language": "python",
   "name": "python3"
  },
  "language_info": {
   "codemirror_mode": {
    "name": "ipython",
    "version": 3
   },
   "file_extension": ".py",
   "mimetype": "text/x-python",
   "name": "python",
   "nbconvert_exporter": "python",
   "pygments_lexer": "ipython3",
   "version": "3.13.1"
  }
 },
 "nbformat": 4,
 "nbformat_minor": 5
}
