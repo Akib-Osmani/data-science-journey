{
 "cells": [
  {
   "cell_type": "markdown",
   "id": "bf4c1082-a5d6-47cd-91af-1a000619bd78",
   "metadata": {},
   "source": [
    "---\n",
    "<h1 style=\"color: #e28743; text-align: center\"> Taking Input From the User</h1>\n",
    "\n",
    "---"
   ]
  },
  {
   "cell_type": "markdown",
   "id": "d1bdcbf2-d791-4442-938e-b8cf3786864f",
   "metadata": {},
   "source": [
    "*we need to always remember python take user input as string*"
   ]
  },
  {
   "cell_type": "code",
   "execution_count": 8,
   "id": "0cc700df-bc1e-4955-8aed-249742d970b1",
   "metadata": {},
   "outputs": [
    {
     "name": "stdin",
     "output_type": "stream",
     "text": [
      "Enter the integer value of a: 4\n"
     ]
    }
   ],
   "source": [
    "a=input(\"Enter the integer value of a:\") # or a = input()"
   ]
  },
  {
   "cell_type": "code",
   "execution_count": 9,
   "id": "eb240736-2aa3-4bd4-98eb-df541d44ea54",
   "metadata": {},
   "outputs": [
    {
     "data": {
      "text/plain": [
       "str"
      ]
     },
     "execution_count": 9,
     "metadata": {},
     "output_type": "execute_result"
    }
   ],
   "source": [
    "type(a)"
   ]
  },
  {
   "cell_type": "code",
   "execution_count": 11,
   "id": "03b71914-3dc5-49a5-916b-e076cb54f636",
   "metadata": {},
   "outputs": [
    {
     "name": "stdin",
     "output_type": "stream",
     "text": [
      "Enter the value of a =  4\n",
      "Enter the value of b =  2\n"
     ]
    }
   ],
   "source": [
    "a=input(\"Enter the value of a = \")\n",
    "b=input(\"Enter the value of b = \")"
   ]
  },
  {
   "cell_type": "code",
   "execution_count": 13,
   "id": "7bc162e0-7393-421f-9a16-7290ef94f1cd",
   "metadata": {},
   "outputs": [],
   "source": [
    "# sometime it makes confusion"
   ]
  },
  {
   "cell_type": "code",
   "execution_count": 14,
   "id": "c07223ea-3e1b-42d1-81c3-224e7bb2c3b5",
   "metadata": {},
   "outputs": [
    {
     "data": {
      "text/plain": [
       "'42'"
      ]
     },
     "execution_count": 14,
     "metadata": {},
     "output_type": "execute_result"
    }
   ],
   "source": [
    "a+b #here it work as string concatanation instead of summation"
   ]
  },
  {
   "cell_type": "code",
   "execution_count": 15,
   "id": "846ae5f8-af28-44d4-9898-9889860020a3",
   "metadata": {},
   "outputs": [],
   "source": [
    "# to sum up the numbers ,we need to typecast"
   ]
  },
  {
   "cell_type": "code",
   "execution_count": 16,
   "id": "15f49cd2-6c45-4eef-9e09-933425cbec75",
   "metadata": {},
   "outputs": [
    {
     "data": {
      "text/plain": [
       "6"
      ]
     },
     "execution_count": 16,
     "metadata": {},
     "output_type": "execute_result"
    }
   ],
   "source": [
    "int(a)+int(b)"
   ]
  },
  {
   "cell_type": "markdown",
   "id": "95a56b88-7dd4-428a-9a4c-71a37bf2036f",
   "metadata": {},
   "source": [
    "<div style=\"text-align: center;\">\n",
    "  <h3><span style=\"color: #e28743;\"> The End </span></h3>\n",
    "</div>"
   ]
  }
 ],
 "metadata": {
  "kernelspec": {
   "display_name": "Python 3 (ipykernel)",
   "language": "python",
   "name": "python3"
  },
  "language_info": {
   "codemirror_mode": {
    "name": "ipython",
    "version": 3
   },
   "file_extension": ".py",
   "mimetype": "text/x-python",
   "name": "python",
   "nbconvert_exporter": "python",
   "pygments_lexer": "ipython3",
   "version": "3.13.1"
  }
 },
 "nbformat": 4,
 "nbformat_minor": 5
}
