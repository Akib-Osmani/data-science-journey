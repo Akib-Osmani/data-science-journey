{
 "cells": [
  {
   "cell_type": "markdown",
   "id": "af0e53c6-b9b6-4309-95f6-e7dcaf8b2037",
   "metadata": {},
   "source": [
    "---\n",
    "<h1 style=\"color: #e28743; text-align: center\"> List and List Methods & List Comprehensions</h1>\n",
    "\n",
    "---"
   ]
  },
  {
   "cell_type": "markdown",
   "id": "4b5f4e49-06d4-4aef-a11a-614733892810",
   "metadata": {},
   "source": [
    "### <span style=\"color: #e28743;\">  1. List</span>"
   ]
  },
  {
   "cell_type": "markdown",
   "id": "faa71f28-11de-4af2-a2fc-cac71eaed3ef",
   "metadata": {},
   "source": [
    "*A **list** in python is an orderes, **mutable** collection of elements of diffarent types*"
   ]
  },
  {
   "cell_type": "markdown",
   "id": "9f1ca2ef-0719-4700-9650-94f960141920",
   "metadata": {},
   "source": [
    "Creating list:"
   ]
  },
  {
   "cell_type": "code",
   "execution_count": 9,
   "id": "fd3cd6a9-dc2e-4ec7-944c-f357e9ec2981",
   "metadata": {},
   "outputs": [],
   "source": [
    "# empty list \n",
    "l=[]"
   ]
  },
  {
   "cell_type": "code",
   "execution_count": 32,
   "id": "237ed38f-ab9c-4ba9-b812-3ed4f6cb1154",
   "metadata": {},
   "outputs": [],
   "source": [
    "# list with elements\n",
    "num=[1,2,3,4,5,6]"
   ]
  },
  {
   "cell_type": "code",
   "execution_count": 40,
   "id": "42015d4b-eb8c-45ec-af91-b3f057bb3294",
   "metadata": {},
   "outputs": [
    {
     "name": "stdout",
     "output_type": "stream",
     "text": [
      "Rakib's CGPA : 3.52\n"
     ]
    }
   ],
   "source": [
    "# nested list\n",
    "n_list=[ [\"akib\",\"sakib\",\"rakib\"],\n",
    "         [23,24,26],\n",
    "         [[\"20 Credits\",3.98],[\"59 Credits\",3.55],[\"132 Credits\",3.52]]\n",
    "       ]\n",
    "\n",
    "# accesing rakib's CGPA :\n",
    "print(f\"Rakib's CGPA : {n_list[2][2][1]}\")"
   ]
  },
  {
   "cell_type": "code",
   "execution_count": 26,
   "id": "543f9c94-8665-4296-b995-4e53ed841756",
   "metadata": {},
   "outputs": [],
   "source": [
    "# mixed data types\n",
    "mix_list=[1,\"Hello\",2.32,True]"
   ]
  },
  {
   "cell_type": "markdown",
   "id": "ad4f89d1-d04f-4b4b-bdea-bbeefa10f0dd",
   "metadata": {},
   "source": [
    "### <span style=\"color: #e28743;\">  2. List Methods</span>"
   ]
  },
  {
   "cell_type": "code",
   "execution_count": 27,
   "id": "a216a659-9719-4647-8a99-6387597e0cce",
   "metadata": {},
   "outputs": [
    {
     "data": {
      "text/plain": [
       "[1, 'Hello', 2.32, True, 4]"
      ]
     },
     "execution_count": 27,
     "metadata": {},
     "output_type": "execute_result"
    }
   ],
   "source": [
    "mix_list.append(4) \n",
    "mix_list"
   ]
  },
  {
   "cell_type": "code",
   "execution_count": 28,
   "id": "5d175095-2d64-4d3a-8dff-21a5c1ba4db6",
   "metadata": {},
   "outputs": [
    {
     "data": {
      "text/plain": [
       "['inserted in 0 index', 1, 'Hello', 2.32, True, 4]"
      ]
     },
     "execution_count": 28,
     "metadata": {},
     "output_type": "execute_result"
    }
   ],
   "source": [
    "mix_list.insert(0,\"inserted in 0 index\") # insertt(index,value)\n",
    "mix_list"
   ]
  },
  {
   "cell_type": "code",
   "execution_count": 29,
   "id": "d0d1caa0-f147-45cc-b510-8abcb2735fb4",
   "metadata": {},
   "outputs": [
    {
     "data": {
      "text/plain": [
       "['inserted in 0 index', 1, 'Hello', 2.32, True]"
      ]
     },
     "execution_count": 29,
     "metadata": {},
     "output_type": "execute_result"
    }
   ],
   "source": [
    "mix_list.remove(4)\n",
    "mix_list"
   ]
  },
  {
   "cell_type": "code",
   "execution_count": 30,
   "id": "7844a836-b6dc-4861-8f83-562702e6c71c",
   "metadata": {},
   "outputs": [
    {
     "data": {
      "text/plain": [
       "True"
      ]
     },
     "execution_count": 30,
     "metadata": {},
     "output_type": "execute_result"
    }
   ],
   "source": [
    "mix_list.pop()"
   ]
  },
  {
   "cell_type": "code",
   "execution_count": 31,
   "id": "cc1e15f2-5f4d-44c2-8e9e-214b48ca3b55",
   "metadata": {},
   "outputs": [
    {
     "data": {
      "text/plain": [
       "['inserted in 0 index', 1, 'Hello', 2.32]"
      ]
     },
     "execution_count": 31,
     "metadata": {},
     "output_type": "execute_result"
    }
   ],
   "source": [
    "mix_list"
   ]
  },
  {
   "cell_type": "code",
   "execution_count": 45,
   "id": "6c7432eb-2fec-45b4-bba5-659880ef7e29",
   "metadata": {},
   "outputs": [
    {
     "data": {
      "text/plain": [
       "[2.32, 'Hello', 1, 'inserted in 0 index']"
      ]
     },
     "execution_count": 45,
     "metadata": {},
     "output_type": "execute_result"
    }
   ],
   "source": [
    "mix_list.reverse()\n",
    "mix_list"
   ]
  },
  {
   "cell_type": "code",
   "execution_count": 46,
   "id": "13809530-1aec-4c4e-bda6-bf454e8c9367",
   "metadata": {},
   "outputs": [
    {
     "ename": "TypeError",
     "evalue": "'<' not supported between instances of 'str' and 'float'",
     "output_type": "error",
     "traceback": [
      "\u001b[1;31m---------------------------------------------------------------------------\u001b[0m",
      "\u001b[1;31mTypeError\u001b[0m                                 Traceback (most recent call last)",
      "Cell \u001b[1;32mIn[46], line 1\u001b[0m\n\u001b[1;32m----> 1\u001b[0m \u001b[43mmix_list\u001b[49m\u001b[38;5;241;43m.\u001b[39;49m\u001b[43msort\u001b[49m\u001b[43m(\u001b[49m\u001b[43m)\u001b[49m\n",
      "\u001b[1;31mTypeError\u001b[0m: '<' not supported between instances of 'str' and 'float'"
     ]
    }
   ],
   "source": [
    "mix_list.sort() # will be an error"
   ]
  },
  {
   "cell_type": "code",
   "execution_count": 59,
   "id": "14624d92-9a42-48b5-aaba-97ac75788b07",
   "metadata": {},
   "outputs": [
    {
     "data": {
      "text/plain": [
       "[1, 2, 2, 3, 3, 23.2, 222]"
      ]
     },
     "execution_count": 59,
     "metadata": {},
     "output_type": "execute_result"
    }
   ],
   "source": [
    "unsorted_lst=[1,2,3,23.2,2,3,222]\n",
    "unsorted_lst.sort() # unsorted_lst.sort(reverse=True())  for descending\n",
    "unsorted_lst"
   ]
  },
  {
   "cell_type": "code",
   "execution_count": 60,
   "id": "bec47bc1-1270-42d1-a026-dce937219032",
   "metadata": {},
   "outputs": [
    {
     "data": {
      "text/plain": [
       "[222, 23.2, 3, 3, 2, 2, 1]"
      ]
     },
     "execution_count": 60,
     "metadata": {},
     "output_type": "execute_result"
    }
   ],
   "source": [
    "unsorted_lst.reverse() \n",
    "unsorted_lst"
   ]
  },
  {
   "cell_type": "code",
   "execution_count": 62,
   "id": "bbf99f6c-cc1c-4a93-b16f-0cb2a13aa657",
   "metadata": {},
   "outputs": [
    {
     "data": {
      "text/plain": [
       "2"
      ]
     },
     "execution_count": 62,
     "metadata": {},
     "output_type": "execute_result"
    }
   ],
   "source": [
    "unsorted_lst.count(3) # count the number of occurences"
   ]
  },
  {
   "cell_type": "code",
   "execution_count": 63,
   "id": "ecccd2b0-4856-4898-bc9f-cc6163fc1eee",
   "metadata": {},
   "outputs": [
    {
     "data": {
      "text/plain": [
       "[222, 23.2, 3, 3, 2, 2, 1]"
      ]
     },
     "execution_count": 63,
     "metadata": {},
     "output_type": "execute_result"
    }
   ],
   "source": [
    "sorted_list=unsorted_lst.copy() # copy the elements of unsorted list\n",
    "sorted_list"
   ]
  },
  {
   "cell_type": "code",
   "execution_count": 64,
   "id": "2fbcc968-151a-44db-8ec2-a7801f29f841",
   "metadata": {},
   "outputs": [
    {
     "data": {
      "text/plain": [
       "[]"
      ]
     },
     "execution_count": 64,
     "metadata": {},
     "output_type": "execute_result"
    }
   ],
   "source": [
    "unsorted_lst.clear() # clear the element of unsorted list\n",
    "unsorted_lst"
   ]
  },
  {
   "cell_type": "code",
   "execution_count": 66,
   "id": "394e8447-b6cd-4734-ba6b-065debed1dc6",
   "metadata": {},
   "outputs": [
    {
     "data": {
      "text/plain": [
       "[2, 4, 5, 6, 7, 43]"
      ]
     },
     "execution_count": 66,
     "metadata": {},
     "output_type": "execute_result"
    }
   ],
   "source": [
    "new_list=[7,6,5,4,43,2,]\n",
    "sorted(new_list) #returns new sorted list without changing the main list"
   ]
  },
  {
   "cell_type": "markdown",
   "id": "485f6b44-9209-4f66-890e-c3236907d9f5",
   "metadata": {},
   "source": [
    "### <span style=\"color: #e28743;\">  2. List Comprehensions (Efficient list creation) </span>"
   ]
  },
  {
   "cell_type": "code",
   "execution_count": 70,
   "id": "9a9eacf7-0c02-4b5a-a334-ce81bf472a28",
   "metadata": {},
   "outputs": [
    {
     "data": {
      "text/plain": [
       "[1, 4, 9, 16, 25]"
      ]
     },
     "execution_count": 70,
     "metadata": {},
     "output_type": "execute_result"
    }
   ],
   "source": [
    "squared =[x**2 for x in range(1,6)] # making the list squared number from 1 to 5  \n",
    "squared"
   ]
  },
  {
   "cell_type": "markdown",
   "id": "2d24509d-579d-40a8-b0b8-6dae637a5665",
   "metadata": {},
   "source": [
    "<div style=\"text-align: center;\">\n",
    "  <h3><span style=\"color: #e28743;\"> The End </span></h3>\n",
    "</div>"
   ]
  }
 ],
 "metadata": {
  "kernelspec": {
   "display_name": "Python 3 (ipykernel)",
   "language": "python",
   "name": "python3"
  },
  "language_info": {
   "codemirror_mode": {
    "name": "ipython",
    "version": 3
   },
   "file_extension": ".py",
   "mimetype": "text/x-python",
   "name": "python",
   "nbconvert_exporter": "python",
   "pygments_lexer": "ipython3",
   "version": "3.13.1"
  }
 },
 "nbformat": 4,
 "nbformat_minor": 5
}
