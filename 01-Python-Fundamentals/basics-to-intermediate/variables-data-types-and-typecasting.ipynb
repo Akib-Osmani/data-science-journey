{
 "cells": [
  {
   "cell_type": "markdown",
   "id": "5be35814-4b1f-4aea-b59a-fc052f67f3f1",
   "metadata": {},
   "source": [
    "---\n",
    "## Variables, Data Types and Typecasting\n",
    "---"
   ]
  },
  {
   "cell_type": "markdown",
   "id": "09447b4e-7d9e-4c1d-bb2e-7b26ba27a999",
   "metadata": {},
   "source": [
    "### Variables and Data Types\n",
    "*Python is dynamically typed*"
   ]
  },
  {
   "cell_type": "code",
   "execution_count": 1,
   "id": "d64d7ce1-ca43-424a-afc0-1100d044491a",
   "metadata": {},
   "outputs": [
    {
     "name": "stdout",
     "output_type": "stream",
     "text": [
      "<class 'int'>\n",
      "<class 'str'>\n",
      "<class 'str'>\n"
     ]
    }
   ],
   "source": [
    "\n",
    "a=4 # integer [Storing user age]\n",
    "b='32' + \"e\" #string\n",
    "name =\"Akib Osmani\"\n",
    "\n",
    "print(type(a)) \n",
    "print(type(b)) \n",
    "print(type(name)) \n"
   ]
  },
  {
   "cell_type": "markdown",
   "id": "d3eaed59-7714-47cb-b5b3-356fd8957399",
   "metadata": {},
   "source": [
    "a+b  -> This is unsupported operand type for '+'"
   ]
  },
  {
   "cell_type": "code",
   "execution_count": 2,
   "id": "1cb4013f-c2f3-48f2-ba7b-4597a8ec7b50",
   "metadata": {},
   "outputs": [
    {
     "data": {
      "text/plain": [
       "bool"
      ]
     },
     "execution_count": 2,
     "metadata": {},
     "output_type": "execute_result"
    }
   ],
   "source": [
    "is_str= True\n",
    "type(is_str)"
   ]
  },
  {
   "cell_type": "code",
   "execution_count": 3,
   "id": "1d4a7851-986a-445a-b61b-2647e2cb22d9",
   "metadata": {},
   "outputs": [
    {
     "data": {
      "text/plain": [
       "'100200'"
      ]
     },
     "execution_count": 3,
     "metadata": {},
     "output_type": "execute_result"
    }
   ],
   "source": [
    "#string concate\n",
    "a=\"100\"\n",
    "b=\"200\"\n",
    "a+b"
   ]
  },
  {
   "cell_type": "markdown",
   "id": "55b88923-eb3a-47e9-9d56-e70adb70e9ca",
   "metadata": {},
   "source": [
    "## Type Casting\n",
    " *Converting one type of data to another (if possible)*"
   ]
  },
  {
   "cell_type": "code",
   "execution_count": 6,
   "id": "da8e8c39-bba5-4d66-ab26-cb6941640ad8",
   "metadata": {
    "scrolled": true
   },
   "outputs": [
    {
     "name": "stdout",
     "output_type": "stream",
     "text": [
      "100\n",
      "<class 'int'>\n"
     ]
    }
   ],
   "source": [
    "x=\"90\" \n",
    "y=\"10\"\n",
    "print(int(x)+int(y)) # [converting input strings to numbers]\n",
    "print(type(int(x)+int(y)))"
   ]
  },
  {
   "cell_type": "code",
   "execution_count": 5,
   "id": "5dafd07b-8f7d-4d3f-9116-3326745f93ec",
   "metadata": {},
   "outputs": [
    {
     "name": "stdout",
     "output_type": "stream",
     "text": [
      "10.45\n",
      "10\n",
      "<class 'int'>\n"
     ]
    }
   ],
   "source": [
    "z=10.45\n",
    "print(z)\n",
    "print(int(z))\n",
    "print(type(int(z))) #Typecasted to float to int data type"
   ]
  },
  {
   "cell_type": "code",
   "execution_count": 15,
   "id": "a1ba859f-ef47-41a8-9ef3-b61eb21bf3f4",
   "metadata": {},
   "outputs": [
    {
     "name": "stdout",
     "output_type": "stream",
     "text": [
      "<class 'bool'>\n",
      "0\n",
      "1\n"
     ]
    }
   ],
   "source": [
    "is_bool_convertable=False\n",
    "print(type(is_bool_convertable))\n",
    "print(int(is_bool_convertable))\n",
    "is_bool_convertable=True\n",
    "print(int(is_bool_convertable))\n"
   ]
  },
  {
   "cell_type": "markdown",
   "id": "4e5b2755-2042-4121-9904-e0026ff6784e",
   "metadata": {},
   "source": [
    "*End of Variables, Data Types and Typecasting*"
   ]
  },
  {
   "cell_type": "code",
   "execution_count": null,
   "id": "8bf0e6c5-36e3-4aba-8a1f-ee3a55cf7e01",
   "metadata": {},
   "outputs": [],
   "source": []
  }
 ],
 "metadata": {
  "kernelspec": {
   "display_name": "Python 3 (ipykernel)",
   "language": "python",
   "name": "python3"
  },
  "language_info": {
   "codemirror_mode": {
    "name": "ipython",
    "version": 3
   },
   "file_extension": ".py",
   "mimetype": "text/x-python",
   "name": "python",
   "nbconvert_exporter": "python",
   "pygments_lexer": "ipython3",
   "version": "3.13.1"
  }
 },
 "nbformat": 4,
 "nbformat_minor": 5
}
