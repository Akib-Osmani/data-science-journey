{
 "cells": [
  {
   "cell_type": "markdown",
   "id": "58ec1d6b-316f-422e-83f0-2550e48ab9df",
   "metadata": {},
   "source": [
    "---\n",
    "# <span style=\"color: #e28743;\"> Operator Precedence in Python</span>\n",
    "---"
   ]
  },
  {
   "cell_type": "markdown",
   "id": "caea25c3-77f6-40b7-9bde-d94a9ea72ec7",
   "metadata": {},
   "source": [
    "Python follows **PEMDAS** (Parentheses, Exponents, Multiplication/Division, Addition/Subtraction). The order of operations in Python is:"
   ]
  },
  {
   "cell_type": "raw",
   "id": "e157b2e5-0151-4917-915e-c7cc54d39ad7",
   "metadata": {},
   "source": [
    "1. Parentheses ( ) — Highest precedence, operations inside parentheses are evaluated first\n",
    "2. Exponents ** — Power calculations (e.g. 2 ** 3 -> 8).\n",
    "3. Multiplication * , Division / , Floor Division // , Modulus % — Evaluated from left to right.\n",
    "4. Addition + , Subtraction -  — Evaluated from left to right."
   ]
  },
  {
   "cell_type": "raw",
   "id": "60cfb483-4ac7-4d1a-9e77-83de03fe9d9d",
   "metadata": {},
   "source": [
    "\n",
    "Operator Precedence Summary:\n",
    "** (Exponentiation) has the highest precedence and is evaluated\n",
    "    right to left\n",
    "/ , // and X have lower precedence than ** but are evaluated \n",
    "    left to right."
   ]
  },
  {
   "cell_type": "code",
   "execution_count": 1,
   "id": "90fd1821-2a9b-4bbc-b40a-f68aa85451b6",
   "metadata": {},
   "outputs": [],
   "source": [
    "# evaluating a random number"
   ]
  },
  {
   "cell_type": "code",
   "execution_count": 18,
   "id": "0407138e-562f-4b1e-a7c8-f930273c65cc",
   "metadata": {},
   "outputs": [
    {
     "data": {
      "text/plain": [
       "17.0"
      ]
     },
     "execution_count": 18,
     "metadata": {},
     "output_type": "execute_result"
    }
   ],
   "source": [
    "34/2+9*(3-2)**4//2%2"
   ]
  },
  {
   "cell_type": "code",
   "execution_count": 4,
   "id": "4ce16555-750f-451c-b1a6-50c19b594daa",
   "metadata": {},
   "outputs": [],
   "source": [
    "# step by step debug"
   ]
  },
  {
   "cell_type": "code",
   "execution_count": 17,
   "id": "329e4b66-0c13-4258-9342-6e7af6c25b97",
   "metadata": {},
   "outputs": [
    {
     "data": {
      "text/plain": [
       "17.0"
      ]
     },
     "execution_count": 17,
     "metadata": {},
     "output_type": "execute_result"
    }
   ],
   "source": [
    "34/2+9*(1)**4//2%2 # (3-2) , Parenthesis"
   ]
  },
  {
   "cell_type": "code",
   "execution_count": 19,
   "id": "937200b9-cbb5-4211-a305-17c73658107f",
   "metadata": {},
   "outputs": [
    {
     "data": {
      "text/plain": [
       "17.0"
      ]
     },
     "execution_count": 19,
     "metadata": {},
     "output_type": "execute_result"
    }
   ],
   "source": [
    "34/2+9*1//2%2 #(1)**4 , Exponents"
   ]
  },
  {
   "cell_type": "code",
   "execution_count": 16,
   "id": "01586acf-a277-4657-9100-2b154c7c5e06",
   "metadata": {},
   "outputs": [
    {
     "data": {
      "text/plain": [
       "17.0"
      ]
     },
     "execution_count": 16,
     "metadata": {},
     "output_type": "execute_result"
    }
   ],
   "source": [
    "34/2+9*1//2%2 # left to right for all no 3. note"
   ]
  },
  {
   "cell_type": "code",
   "execution_count": 21,
   "id": "24b48e4b-8711-4f49-9038-4c0039b76ec0",
   "metadata": {
    "scrolled": true
   },
   "outputs": [
    {
     "data": {
      "text/plain": [
       "17"
      ]
     },
     "execution_count": 21,
     "metadata": {},
     "output_type": "execute_result"
    }
   ],
   "source": [
    "17+9*1//2%2 # left to right for all no 3. note"
   ]
  },
  {
   "cell_type": "code",
   "execution_count": 23,
   "id": "177c4dc8-51a7-4229-b399-406cf216c51d",
   "metadata": {},
   "outputs": [
    {
     "data": {
      "text/plain": [
       "17"
      ]
     },
     "execution_count": 23,
     "metadata": {},
     "output_type": "execute_result"
    }
   ],
   "source": [
    "17+9//2%2 # left to right for all no 3. note"
   ]
  },
  {
   "cell_type": "code",
   "execution_count": 25,
   "id": "082b43f7-da3f-4b79-a6ba-9d2af6a97f2d",
   "metadata": {},
   "outputs": [
    {
     "data": {
      "text/plain": [
       "17"
      ]
     },
     "execution_count": 25,
     "metadata": {},
     "output_type": "execute_result"
    }
   ],
   "source": [
    "17+4%2  #9//2 = 4 not 4.5"
   ]
  },
  {
   "cell_type": "code",
   "execution_count": 27,
   "id": "89da2e4e-bc16-4b70-b63a-8e24e2a8eb1e",
   "metadata": {},
   "outputs": [
    {
     "data": {
      "text/plain": [
       "17"
      ]
     },
     "execution_count": 27,
     "metadata": {},
     "output_type": "execute_result"
    }
   ],
   "source": [
    "17+0 #4%2"
   ]
  },
  {
   "cell_type": "markdown",
   "id": "d5bc0369-4034-4348-8f73-7966ddc056d3",
   "metadata": {},
   "source": [
    "Final answer =17"
   ]
  },
  {
   "cell_type": "markdown",
   "id": "e04ac737-bf83-42c7-a8ca-fb5b2184da0a",
   "metadata": {},
   "source": [
    "<h2 style=\"text-align: center; color: #A75CB3;\">Real world use case</h2>"
   ]
  },
  {
   "cell_type": "markdown",
   "id": "d01847c5-e117-4664-ace9-b2564b75bdd3",
   "metadata": {},
   "source": [
    "EMI Calculation"
   ]
  },
  {
   "cell_type": "code",
   "execution_count": 33,
   "id": "96e9cd66-104b-4b75-858a-7c1bab7fdd1b",
   "metadata": {},
   "outputs": [
    {
     "name": "stdout",
     "output_type": "stream",
     "text": [
      "Monthly EMI: BDT 5935.09\n"
     ]
    }
   ],
   "source": [
    "principal= 500000  # principal amount BDT\n",
    "annual_rate_percent = 7.5     # annual interest rate in percent\n",
    "tenure_years = 10      # tenure in years\n",
    "\n",
    "# Converting annual rate to monthly and percentage to decimal\n",
    "r = annual_rate_percent / (12 * 100)  \n",
    "n = tenure_years * 12  # Total number of monthly installments\n",
    "\n",
    "# EMI formula with correct operator precedence\n",
    "emi = (principal * r * (1 + r)**n) / ((1 + r)**n - 1)\n",
    "    \n",
    "print(f\"Monthly EMI: BDT {round(emi,2)}\")"
   ]
  },
  {
   "cell_type": "markdown",
   "id": "83eab7ce-3c61-4314-84d6-6433d8d450c8",
   "metadata": {},
   "source": [
    "without correct use of paranthesis exponents like (1+r)**n may not give the result as intended"
   ]
  },
  {
   "cell_type": "code",
   "execution_count": null,
   "id": "70539b74-0468-44a0-9bd9-9912c9d243bd",
   "metadata": {},
   "outputs": [],
   "source": []
  }
 ],
 "metadata": {
  "kernelspec": {
   "display_name": "Python 3 (ipykernel)",
   "language": "python",
   "name": "python3"
  },
  "language_info": {
   "codemirror_mode": {
    "name": "ipython",
    "version": 3
   },
   "file_extension": ".py",
   "mimetype": "text/x-python",
   "name": "python",
   "nbconvert_exporter": "python",
   "pygments_lexer": "ipython3",
   "version": "3.13.1"
  }
 },
 "nbformat": 4,
 "nbformat_minor": 5
}
