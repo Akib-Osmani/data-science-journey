{
 "cells": [
  {
   "cell_type": "markdown",
   "id": "f3f61437-4fec-4297-87a2-c1e19a3db7da",
   "metadata": {},
   "source": [
    "---\n",
    "<h1 style=\"color: #e28743; text-align: center\"> Python Sets and Set Methods</h1>\n",
    "\n",
    "---"
   ]
  },
  {
   "cell_type": "markdown",
   "id": "324ab667-4872-41f1-86ae-8abe9ae6d417",
   "metadata": {},
   "source": [
    "\n",
    "*A set in Python is an **unordered**, **mutable** and **unique** collection of elements. It does not allow duplicate values.*"
   ]
  },
  {
   "cell_type": "markdown",
   "id": "af6e53c3-1691-4c40-9d29-1f9065939509",
   "metadata": {},
   "source": [
    "**Key Properties of Sets:**\n",
    "- **Unordered:** No indexing or slicing.\n",
    "- **Unique Elements:** Duplicates are automatically removed.\n",
    "- **Mutable:** You can add or remove elements."
   ]
  },
  {
   "cell_type": "markdown",
   "id": "309b19aa-3c2a-4960-8c17-553f3ba64408",
   "metadata": {},
   "source": [
    "### <span style=\"color: #e28743;\">  Creating a Set</span>"
   ]
  },
  {
   "cell_type": "code",
   "execution_count": 13,
   "id": "8ba431d6-f4e9-4043-899d-f32a05a52b4d",
   "metadata": {},
   "outputs": [],
   "source": [
    "# empty set\n",
    "e_set = set()\n",
    "# cautious: if it declares like {} for emty set ,then it will be a dictionary\n",
    "not_set={}"
   ]
  },
  {
   "cell_type": "code",
   "execution_count": 5,
   "id": "c465c3a4-cf76-46aa-ae8d-91b28bdcba5b",
   "metadata": {},
   "outputs": [
    {
     "name": "stdout",
     "output_type": "stream",
     "text": [
      "<class 'set'>\n",
      "<class 'dict'>\n"
     ]
    }
   ],
   "source": [
    "print(type(e_set))\n",
    "print(type(not_set))"
   ]
  },
  {
   "cell_type": "code",
   "execution_count": 6,
   "id": "8061e387-32a7-44f9-ac66-84d328c97474",
   "metadata": {},
   "outputs": [],
   "source": [
    "#set with elements\n",
    "numbers ={1,2,3,4,5,6}"
   ]
  },
  {
   "cell_type": "code",
   "execution_count": 7,
   "id": "3a8e8426-228e-4bd1-9fb5-21505b0c333a",
   "metadata": {},
   "outputs": [],
   "source": [
    "# mixed data types\n",
    "mix_sets={1,3.42,\"Akib\",True}"
   ]
  },
  {
   "cell_type": "code",
   "execution_count": 10,
   "id": "a34de728-8f94-4b9c-9341-37cf7001b6e9",
   "metadata": {},
   "outputs": [],
   "source": [
    "#creating a set from a list\n",
    "Lst= [1,2,2,2,2,3,\"23\",True]\n",
    "Lst_to_set= set(Lst)"
   ]
  },
  {
   "cell_type": "code",
   "execution_count": 12,
   "id": "d795ceac-443c-4888-b3a0-dfe20d1c9762",
   "metadata": {},
   "outputs": [
    {
     "data": {
      "text/plain": [
       "{1, 2, '23', 3}"
      ]
     },
     "execution_count": 12,
     "metadata": {},
     "output_type": "execute_result"
    }
   ],
   "source": [
    "Lst_to_set # set ignore the repeated values from the list"
   ]
  },
  {
   "cell_type": "markdown",
   "id": "9056a600-101b-4b2c-bdfd-e095f35793da",
   "metadata": {},
   "source": [
    "### <span style=\"color: #e28743;\"> Common Set methods</span>"
   ]
  },
  {
   "cell_type": "code",
   "execution_count": 26,
   "id": "0db857fa-128e-4121-9235-f6378a44f1a4",
   "metadata": {},
   "outputs": [
    {
     "data": {
      "text/plain": [
       "{1, 2, 3, 4, 5, 999}"
      ]
     },
     "execution_count": 26,
     "metadata": {},
     "output_type": "execute_result"
    }
   ],
   "source": [
    "# for adding only one element to an existing set \n",
    "set_for_method ={1,2,3,4,5}\n",
    "set_for_method.add(999)\n",
    "set_for_method"
   ]
  },
  {
   "cell_type": "code",
   "execution_count": 46,
   "id": "125c5e2c-7345-475f-8170-912f84a13bb7",
   "metadata": {},
   "outputs": [
    {
     "data": {
      "text/plain": [
       "{1, 2, 3, 4, 5, 22, 222, 444, 999}"
      ]
     },
     "execution_count": 46,
     "metadata": {},
     "output_type": "execute_result"
    }
   ],
   "source": [
    "# for adding more than one elements on the existing set -> pass as list\n",
    "set_for_method.update([222,444,22])\n",
    "set_for_method"
   ]
  },
  {
   "cell_type": "code",
   "execution_count": 47,
   "id": "b788fa4d-55c9-469d-a7bf-f1df577b5d2c",
   "metadata": {},
   "outputs": [],
   "source": [
    "# for making a collection of unique alphabet from a string\n",
    "un=set()\n",
    "un.update(\"AKIB OSMANI\") \n",
    "#updating with a string takes as list of elements and put it in the set (and become unique)"
   ]
  },
  {
   "cell_type": "code",
   "execution_count": 48,
   "id": "5493f101-18ab-4cbd-8e79-6e28371b8d8a",
   "metadata": {},
   "outputs": [
    {
     "data": {
      "text/plain": [
       "{' ', 'A', 'B', 'I', 'K', 'M', 'N', 'O', 'S'}"
      ]
     },
     "execution_count": 48,
     "metadata": {},
     "output_type": "execute_result"
    }
   ],
   "source": [
    "un"
   ]
  },
  {
   "cell_type": "code",
   "execution_count": 63,
   "id": "880837b7-cf4f-44a1-8458-a778757492d8",
   "metadata": {},
   "outputs": [
    {
     "data": {
      "text/plain": [
       "{2, 3}"
      ]
     },
     "execution_count": 63,
     "metadata": {},
     "output_type": "execute_result"
    }
   ],
   "source": [
    "# remove vs discard\n",
    "list_element={1,2,3}\n",
    "list_element.remove(1)\n",
    "list_element"
   ]
  },
  {
   "cell_type": "code",
   "execution_count": 64,
   "id": "f44394ff-3def-4f9f-911f-acea79afd720",
   "metadata": {},
   "outputs": [
    {
     "ename": "KeyError",
     "evalue": "4",
     "output_type": "error",
     "traceback": [
      "\u001b[1;31m---------------------------------------------------------------------------\u001b[0m",
      "\u001b[1;31mKeyError\u001b[0m                                  Traceback (most recent call last)",
      "Cell \u001b[1;32mIn[64], line 1\u001b[0m\n\u001b[1;32m----> 1\u001b[0m \u001b[43mlist_element\u001b[49m\u001b[38;5;241;43m.\u001b[39;49m\u001b[43mremove\u001b[49m\u001b[43m(\u001b[49m\u001b[38;5;241;43m4\u001b[39;49m\u001b[43m)\u001b[49m \u001b[38;5;66;03m# will throw an error\u001b[39;00m\n",
      "\u001b[1;31mKeyError\u001b[0m: 4"
     ]
    }
   ],
   "source": [
    "list_element.remove(4) # will throw an error"
   ]
  },
  {
   "cell_type": "code",
   "execution_count": 65,
   "id": "508a158f-0669-4dcc-8fed-d9f5e433a758",
   "metadata": {},
   "outputs": [
    {
     "name": "stdout",
     "output_type": "stream",
     "text": [
      "{2, 3}\n",
      "{2, 3}\n"
     ]
    }
   ],
   "source": [
    "print(list_element)\n",
    "list_element.discard(4) # does not throw an error\n",
    "print(list_element) "
   ]
  },
  {
   "cell_type": "code",
   "execution_count": 67,
   "id": "0986dc5e-ea6b-4b95-a5a9-10cc807d67ba",
   "metadata": {},
   "outputs": [
    {
     "data": {
      "text/plain": [
       "2"
      ]
     },
     "execution_count": 67,
     "metadata": {},
     "output_type": "execute_result"
    }
   ],
   "source": [
    "# pop will remove a RANDOM element from the set\n",
    "list_element\n",
    "list_element.pop()"
   ]
  },
  {
   "cell_type": "code",
   "execution_count": 68,
   "id": "e376cbcc-1184-4f93-92d8-7110fb43f630",
   "metadata": {},
   "outputs": [
    {
     "data": {
      "text/plain": [
       "{3}"
      ]
     },
     "execution_count": 68,
     "metadata": {},
     "output_type": "execute_result"
    }
   ],
   "source": [
    "list_element"
   ]
  },
  {
   "cell_type": "code",
   "execution_count": 71,
   "id": "f1fe6a91-4863-4422-95ce-f362a11b8c59",
   "metadata": {},
   "outputs": [],
   "source": [
    "# clear removes all the elements from a set\n",
    "list_element.clear()"
   ]
  },
  {
   "cell_type": "code",
   "execution_count": 72,
   "id": "092965b8-ef2c-4056-b290-6d75e1aacd4e",
   "metadata": {},
   "outputs": [
    {
     "data": {
      "text/plain": [
       "set()"
      ]
     },
     "execution_count": 72,
     "metadata": {},
     "output_type": "execute_result"
    }
   ],
   "source": [
    "list_element"
   ]
  },
  {
   "cell_type": "markdown",
   "id": "f7289677-61fb-46f5-8955-26661e8eca52",
   "metadata": {},
   "source": [
    "### <span style=\"color: #e28743;\"> Set Operations</span>"
   ]
  },
  {
   "cell_type": "code",
   "execution_count": 76,
   "id": "e59af611-5032-4461-aae9-200557950ca8",
   "metadata": {},
   "outputs": [],
   "source": [
    "set1 ={1,2,3}\n",
    "set2= {3,4,5,6}"
   ]
  },
  {
   "cell_type": "code",
   "execution_count": 77,
   "id": "8fc9a1b6-f79a-4d6b-9fae-08c0b126946d",
   "metadata": {},
   "outputs": [
    {
     "data": {
      "text/plain": [
       "{1, 2, 3, 4, 5, 6}"
      ]
     },
     "execution_count": 77,
     "metadata": {},
     "output_type": "execute_result"
    }
   ],
   "source": [
    "# Union\n",
    "set1.union(set2)"
   ]
  },
  {
   "cell_type": "code",
   "execution_count": 78,
   "id": "b8cb0856-b62c-40c7-83c7-6d0b5d97b6cd",
   "metadata": {},
   "outputs": [
    {
     "data": {
      "text/plain": [
       "{3}"
      ]
     },
     "execution_count": 78,
     "metadata": {},
     "output_type": "execute_result"
    }
   ],
   "source": [
    "# Intersection\n",
    "set1.intersection(set2)"
   ]
  },
  {
   "cell_type": "code",
   "execution_count": 83,
   "id": "2219d4bb-7275-435b-8358-59ab9f80a899",
   "metadata": {},
   "outputs": [
    {
     "data": {
      "text/plain": [
       "{1, 2}"
      ]
     },
     "execution_count": 83,
     "metadata": {},
     "output_type": "execute_result"
    }
   ],
   "source": [
    "# diffarence (returns a set with elements in set1 but not in set2)\n",
    "# set1-set2\n",
    "set1.difference(set2)"
   ]
  },
  {
   "cell_type": "code",
   "execution_count": 84,
   "id": "47b0aad4-be47-4b58-a625-7ad5b3fa0c5c",
   "metadata": {},
   "outputs": [
    {
     "data": {
      "text/plain": [
       "{1, 2, 4, 5, 6}"
      ]
     },
     "execution_count": 84,
     "metadata": {},
     "output_type": "execute_result"
    }
   ],
   "source": [
    "# symmetric diffarence (returns a set with elements either set1 or set2 but not both)\n",
    "# (set1 U set2) -(set1 n set2)  \n",
    "set1.symmetric_difference(set2)"
   ]
  },
  {
   "cell_type": "code",
   "execution_count": 82,
   "id": "fa883472-673d-4051-8614-09d100eea7a7",
   "metadata": {},
   "outputs": [],
   "source": [
    "# subset and superset\n",
    "super_set={1,2,3,4}\n",
    "sub_set={2,3}"
   ]
  },
  {
   "cell_type": "code",
   "execution_count": 80,
   "id": "7f942261-b0d7-4533-a7fa-8a197938888f",
   "metadata": {},
   "outputs": [
    {
     "data": {
      "text/plain": [
       "True"
      ]
     },
     "execution_count": 80,
     "metadata": {},
     "output_type": "execute_result"
    }
   ],
   "source": [
    "sub.issubset(sup)"
   ]
  },
  {
   "cell_type": "code",
   "execution_count": 81,
   "id": "25bafa35-3731-402b-b59b-244ad5a7eeb7",
   "metadata": {},
   "outputs": [
    {
     "data": {
      "text/plain": [
       "True"
      ]
     },
     "execution_count": 81,
     "metadata": {},
     "output_type": "execute_result"
    }
   ],
   "source": [
    "sup.issuperset(sub)"
   ]
  },
  {
   "cell_type": "markdown",
   "id": "22a23639-1061-4095-a6d7-4f056f84f4e7",
   "metadata": {},
   "source": [
    "<div style=\"text-align: center;\">\n",
    "  <h3><span style=\"color: #e28743;\"> The End </span></h3>\n",
    "</div>"
   ]
  }
 ],
 "metadata": {
  "kernelspec": {
   "display_name": "Python 3 (ipykernel)",
   "language": "python",
   "name": "python3"
  },
  "language_info": {
   "codemirror_mode": {
    "name": "ipython",
    "version": 3
   },
   "file_extension": ".py",
   "mimetype": "text/x-python",
   "name": "python",
   "nbconvert_exporter": "python",
   "pygments_lexer": "ipython3",
   "version": "3.13.1"
  }
 },
 "nbformat": 4,
 "nbformat_minor": 5
}
