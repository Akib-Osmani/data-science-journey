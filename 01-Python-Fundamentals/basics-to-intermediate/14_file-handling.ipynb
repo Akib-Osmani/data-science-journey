{
 "cells": [
  {
   "cell_type": "markdown",
   "id": "0b78127b-da8f-4a2c-884f-dd524b2d5c40",
   "metadata": {},
   "source": [
    "---\n",
    "<h1 style=\"color: #e28743; text-align: center\"> File Handling in Python</h1>\n",
    "\n",
    "---"
   ]
  },
  {
   "cell_type": "markdown",
   "id": "67f99635-0afb-4465-bdd5-62c16d415467",
   "metadata": {},
   "source": [
    "*File handling allows Python programs to read, write and manipulate files stored on disk. Python provides built-in functions for working with files.*"
   ]
  },
  {
   "cell_type": "markdown",
   "id": "532c3e21-ac98-4db6-aa38-8e013c9a3de7",
   "metadata": {},
   "source": [
    "<h3 style=\"color: #e28743; text-align: left\"> Writing in a file (overwrite) </h3>"
   ]
  },
  {
   "cell_type": "markdown",
   "id": "b97ac860-b6ac-4c15-8973-8fd11a7bbd2b",
   "metadata": {},
   "source": [
    "*This will remove the previous content and start writing*"
   ]
  },
  {
   "cell_type": "code",
   "execution_count": 26,
   "id": "0de4f212-2105-49db-b1b8-a6877cc1b65a",
   "metadata": {},
   "outputs": [],
   "source": [
    "f= open(\"file_handling.txt\",\"r\")"
   ]
  },
  {
   "cell_type": "code",
   "execution_count": 27,
   "id": "6cb2bb8a-109c-4dc9-8beb-1758774da4fa",
   "metadata": {},
   "outputs": [
    {
     "data": {
      "text/plain": [
       "'akib osmani'"
      ]
     },
     "execution_count": 27,
     "metadata": {},
     "output_type": "execute_result"
    }
   ],
   "source": [
    "f.read()"
   ]
  },
  {
   "cell_type": "code",
   "execution_count": 74,
   "id": "7173ebb4-6909-43a2-a6b4-a3ae27e33013",
   "metadata": {},
   "outputs": [],
   "source": [
    "f.close()"
   ]
  },
  {
   "cell_type": "code",
   "execution_count": 33,
   "id": "36d889a7-1c20-43d5-a126-c40b1dcb74e8",
   "metadata": {},
   "outputs": [],
   "source": [
    "string=\"Akib is writing from   other file\"\n",
    "File=open(\"file_handling.txt\",\"w\")"
   ]
  },
  {
   "cell_type": "code",
   "execution_count": 34,
   "id": "6fcedb8f-ce17-4387-9069-d681a370ff90",
   "metadata": {},
   "outputs": [
    {
     "data": {
      "text/plain": [
       "33"
      ]
     },
     "execution_count": 34,
     "metadata": {},
     "output_type": "execute_result"
    }
   ],
   "source": [
    "File.write(string)"
   ]
  },
  {
   "cell_type": "code",
   "execution_count": 38,
   "id": "51a43a03-46a0-467c-a62c-1fec3df1c12e",
   "metadata": {},
   "outputs": [],
   "source": [
    "f.close()"
   ]
  },
  {
   "cell_type": "markdown",
   "id": "8fd0c45b-76e2-454f-be77-fa664ebad920",
   "metadata": {},
   "source": [
    "<h3 style=\"color: #e28743; text-align: left\"> Using with Statement (Best Practice)</h3>"
   ]
  },
  {
   "cell_type": "markdown",
   "id": "c9ffc71b-39df-4d2e-a56c-16699c1dde5f",
   "metadata": {},
   "source": [
    "*Using with **open()** ensures the file is automatically closed after execution.*"
   ]
  },
  {
   "cell_type": "code",
   "execution_count": 44,
   "id": "bdcb86bb-a44b-441f-bfa4-29113b36bc9f",
   "metadata": {},
   "outputs": [
    {
     "name": "stdout",
     "output_type": "stream",
     "text": [
      "Akib is writing from other file\n"
     ]
    }
   ],
   "source": [
    "with open(\"file_handling.txt\",\"r\") as file :\n",
    "    content=file.read()\n",
    "    print(content)"
   ]
  },
  {
   "cell_type": "markdown",
   "id": "388826e1-4318-49c7-a1bd-a7c07c8b172f",
   "metadata": {},
   "source": [
    "<h3 style=\"color: #e28743; text-align: left\"> Writing in a file (append) </h3>"
   ]
  },
  {
   "cell_type": "code",
   "execution_count": 65,
   "id": "4658b2b2-ee47-4b2f-86f8-16d209d33a47",
   "metadata": {},
   "outputs": [],
   "source": [
    "file_to_append=open(\"file_handling.txt\",\"a\")"
   ]
  },
  {
   "cell_type": "code",
   "execution_count": 66,
   "id": "bf1a672c-1362-4fbc-80f2-b40a230db71c",
   "metadata": {},
   "outputs": [
    {
     "data": {
      "text/plain": [
       "37"
      ]
     },
     "execution_count": 66,
     "metadata": {},
     "output_type": "execute_result"
    }
   ],
   "source": [
    "strr=\"then adding another line using append\"\n",
    "file_to_append.write(strr)"
   ]
  },
  {
   "cell_type": "code",
   "execution_count": 71,
   "id": "8afa4c47-60b4-48f7-982d-3ee930b11364",
   "metadata": {},
   "outputs": [],
   "source": [
    "file_to_append.close()"
   ]
  },
  {
   "cell_type": "code",
   "execution_count": null,
   "id": "0d21b602-3ad2-4756-8866-842091fddb30",
   "metadata": {},
   "outputs": [],
   "source": [
    "import os\n",
    "\n",
    "if os.path.exists(\"file_handling.txt\"):\n",
    "    os.remove(\"file_handling.txt\")\n",
    "else :\n",
    "    print(\"file doesn't exist\")"
   ]
  },
  {
   "cell_type": "markdown",
   "id": "46b029f1-a329-4ac0-8b1e-f26d8d406024",
   "metadata": {},
   "source": [
    "<div style=\"text-align: center;\">\n",
    "  <h3><span style=\"color: #e28743;\"> The End </span></h3>\n",
    "</div>"
   ]
  }
 ],
 "metadata": {
  "kernelspec": {
   "display_name": "Python 3 (ipykernel)",
   "language": "python",
   "name": "python3"
  },
  "language_info": {
   "codemirror_mode": {
    "name": "ipython",
    "version": 3
   },
   "file_extension": ".py",
   "mimetype": "text/x-python",
   "name": "python",
   "nbconvert_exporter": "python",
   "pygments_lexer": "ipython3",
   "version": "3.13.1"
  }
 },
 "nbformat": 4,
 "nbformat_minor": 5
}
