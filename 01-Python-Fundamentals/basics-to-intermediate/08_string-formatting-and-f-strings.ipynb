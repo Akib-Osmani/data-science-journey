{
 "cells": [
  {
   "cell_type": "markdown",
   "id": "7b3e7f24-a7f4-4336-8fbc-20a640317a1e",
   "metadata": {},
   "source": [
    "---\n",
    "<h1 style=\"color: #e28743; text-align: center\">String Formatting in Python</h1>\n",
    "\n",
    "---"
   ]
  },
  {
   "cell_type": "markdown",
   "id": "0e6b2536-83de-4ae9-9c9e-d6cb623b2738",
   "metadata": {},
   "source": [
    "*String is arguably the most used **immutable** data types in Python. Python provides multiple ways to format strings. including the format() method and f-strings (introduced in Python 3.6).*"
   ]
  },
  {
   "cell_type": "markdown",
   "id": "0b3f920e-d37b-46e6-b660-1212f5c5dc10",
   "metadata": {
    "jp-MarkdownHeadingCollapsed": true
   },
   "source": [
    "\n",
    "<h3 style=\"color: #e28743; text-align: left\">1. Using format ()</h1>\n"
   ]
  },
  {
   "cell_type": "code",
   "execution_count": 1,
   "id": "16351bd7-d2c5-407e-baba-86fceaab76dc",
   "metadata": {},
   "outputs": [],
   "source": [
    "name =\"Akib Osmani\"\n",
    "age =23"
   ]
  },
  {
   "cell_type": "code",
   "execution_count": 8,
   "id": "d775cd2c-e5fe-4a34-86eb-8324f8326968",
   "metadata": {},
   "outputs": [
    {
     "name": "stdout",
     "output_type": "stream",
     "text": [
      "My name is Akib Osmani and I am 25 years old\n"
     ]
    }
   ],
   "source": [
    "print(\"My name is {} and I am {} years old\".format(name,age))"
   ]
  },
  {
   "cell_type": "markdown",
   "id": "84724235-3de7-44a6-939e-ef4418ecb00e",
   "metadata": {},
   "source": [
    "*Positional keyword arguments:*"
   ]
  },
  {
   "cell_type": "code",
   "execution_count": 5,
   "id": "5ea685ef-7d4f-437c-a985-49b55a3ef1f7",
   "metadata": {},
   "outputs": [
    {
     "name": "stdout",
     "output_type": "stream",
     "text": [
      "Akib is learning Python\n"
     ]
    }
   ],
   "source": [
    "print(\"{1} is learning {0}\".format(\"Python\",\"Akib\")) #.format(0,1,2,3....)"
   ]
  },
  {
   "cell_type": "code",
   "execution_count": 7,
   "id": "698ad422-f7ea-42b7-a4b8-a65c9229801e",
   "metadata": {},
   "outputs": [
    {
     "name": "stdout",
     "output_type": "stream",
     "text": [
      "Akib is learning Python\n"
     ]
    }
   ],
   "source": [
    "print(\"{name} is learning {language}\".format(name=\"Akib\",language=\"Python\"))"
   ]
  },
  {
   "cell_type": "markdown",
   "id": "bf648d38-639d-4649-8dc8-37ede71a5790",
   "metadata": {
    "jp-MarkdownHeadingCollapsed": true
   },
   "source": [
    "\n",
    "<h3 style=\"color: #e28743; text-align: left\">2. Using f-strings</h1>\n"
   ]
  },
  {
   "cell_type": "markdown",
   "id": "831a604d-0679-4642-abcb-ad830b21b6f2",
   "metadata": {},
   "source": [
    "*f-strings provide us a cleaner and more readable way to format strings.*"
   ]
  },
  {
   "cell_type": "code",
   "execution_count": 14,
   "id": "72db9c76-237e-4ec6-8ea1-b3e73ce13493",
   "metadata": {},
   "outputs": [
    {
     "name": "stdout",
     "output_type": "stream",
     "text": [
      "Sum of 5 and 10 is 15\n"
     ]
    }
   ],
   "source": [
    "a=5\n",
    "b=10\n",
    "print(f\"Sum of {a} and {b} is {a+b}\")"
   ]
  },
  {
   "cell_type": "code",
   "execution_count": 16,
   "id": "640932b1-364d-4ce0-895b-0597bbe33759",
   "metadata": {},
   "outputs": [
    {
     "name": "stdout",
     "output_type": "stream",
     "text": [
      " pi rounded to 3 decimal places: 3.142\n"
     ]
    }
   ],
   "source": [
    "#Formatting numbers\n",
    "pi =3.14159\n",
    "print(f\" pi rounded to 3 decimal places: {pi:.3f}\")"
   ]
  },
  {
   "cell_type": "code",
   "execution_count": 25,
   "id": "ae2fc513-1005-45fe-90a6-53c5fa6ddf93",
   "metadata": {
    "scrolled": true
   },
   "outputs": [
    {
     "name": "stdout",
     "output_type": "stream",
     "text": [
      "AKIB      \n",
      "      AKIB\n",
      "   AKIB   \n"
     ]
    }
   ],
   "source": [
    "# padding and alignment\n",
    "print(f\"{'AKIB':<10}\") #left align\n",
    "print(f\"{'AKIB':>10}\") #right align\n",
    "print(f\"{'AKIB':^10}\") #center-align"
   ]
  },
  {
   "cell_type": "markdown",
   "id": "67feb94e-a7ea-4820-8a4c-d0d180f9d731",
   "metadata": {},
   "source": [
    "AKIB------      \n",
    "------AKIB\n",
    "---AKIB---   "
   ]
  },
  {
   "cell_type": "markdown",
   "id": "b908ccaa-9f0e-4368-9782-d2e26c568691",
   "metadata": {},
   "source": [
    "<div style=\"text-align: center;\">\n",
    "  <h3><span style=\"color: #e28743;\"> The End </span></h3>\n",
    "</div>"
   ]
  }
 ],
 "metadata": {
  "kernelspec": {
   "display_name": "Python 3 (ipykernel)",
   "language": "python",
   "name": "python3"
  },
  "language_info": {
   "codemirror_mode": {
    "name": "ipython",
    "version": 3
   },
   "file_extension": ".py",
   "mimetype": "text/x-python",
   "name": "python",
   "nbconvert_exporter": "python",
   "pygments_lexer": "ipython3",
   "version": "3.13.1"
  }
 },
 "nbformat": 4,
 "nbformat_minor": 5
}
