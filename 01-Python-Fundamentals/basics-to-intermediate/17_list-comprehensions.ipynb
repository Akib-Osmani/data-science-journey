{
 "cells": [
  {
   "cell_type": "markdown",
   "id": "9537134c-33ed-4227-9099-dfec2976b362",
   "metadata": {},
   "source": [
    "---\n",
    "<h1 style=\"color: #e28743; text-align: center\">List Comprehension\n",
    "</h1>\n",
    "\n",
    "---"
   ]
  },
  {
   "cell_type": "markdown",
   "id": "f2a21f5c-97a6-46d4-b662-eae96e7fbebb",
   "metadata": {},
   "source": [
    "*List comprehensions are generally faster than loops because they are optimized internally by Python.*"
   ]
  },
  {
   "cell_type": "code",
   "execution_count": 1,
   "id": "b2b7827c-e48e-4248-ad72-04c69e8d49ef",
   "metadata": {},
   "outputs": [],
   "source": [
    "table =[ i*2 for i  in range(1,11)]"
   ]
  },
  {
   "cell_type": "code",
   "execution_count": 2,
   "id": "871a957c-1133-4822-9f39-7600e9ec46e6",
   "metadata": {},
   "outputs": [
    {
     "data": {
      "text/plain": [
       "[2, 4, 6, 8, 10, 12, 14, 16, 18, 20]"
      ]
     },
     "execution_count": 2,
     "metadata": {},
     "output_type": "execute_result"
    }
   ],
   "source": [
    "table"
   ]
  },
  {
   "cell_type": "code",
   "execution_count": 1,
   "id": "f342fd2c-8397-478f-a62f-981d3d1d3d50",
   "metadata": {},
   "outputs": [
    {
     "name": "stdout",
     "output_type": "stream",
     "text": [
      "['Even', 'Odd', 'Even', 'Odd', 'Even', 'Odd'] "
     ]
    }
   ],
   "source": [
    "# using if else condition in list comprehension\n",
    "evens= [\"Even\" if x%2==0 else \"Odd\" for x in range(6)]\n",
    "print(evens,end=\" \")"
   ]
  },
  {
   "cell_type": "code",
   "execution_count": 8,
   "id": "857f5338-12f7-4f12-8fe1-de383640649a",
   "metadata": {},
   "outputs": [
    {
     "name": "stdout",
     "output_type": "stream",
     "text": [
      "[(0, 0), (0, 1), (0, 2), (1, 0), (1, 1), (1, 2)] "
     ]
    }
   ],
   "source": [
    "# nested loop in List Conprehension\n",
    "\n",
    "pairs=[(x,y) for x in range(2) for y in range(3)]\n",
    "print(pairs,end=\" \")"
   ]
  },
  {
   "cell_type": "code",
   "execution_count": 11,
   "id": "a47e8f55-587d-482d-bab0-7a1d0ac47ad1",
   "metadata": {},
   "outputs": [
    {
     "data": {
      "text/plain": [
       "['AKIB', 'EXPLORING', 'LIST COMPREHENSION']"
      ]
     },
     "execution_count": 11,
     "metadata": {},
     "output_type": "execute_result"
    }
   ],
   "source": [
    "#list comprehension with function\n",
    "words=[\"Akib\",\"exploring\",\"list comprehension\"]\n",
    "upper_words=[word.upper() for word in words]\n",
    "upper_words"
   ]
  },
  {
   "cell_type": "code",
   "execution_count": 12,
   "id": "3cf3532f-6ccc-462c-bea1-215ee4c088c2",
   "metadata": {},
   "outputs": [
    {
     "data": {
      "text/plain": [
       "[1, 2, 3, 4, 5, 6]"
      ]
     },
     "execution_count": 12,
     "metadata": {},
     "output_type": "execute_result"
    }
   ],
   "source": [
    "# matrix \n",
    "matrix=[[1,2],[3,4],[5,6]]\n",
    "flattened=[num for row in matrix for num in row]\n",
    "flattened"
   ]
  },
  {
   "cell_type": "code",
   "execution_count": 2,
   "id": "ac9dfeb9-d71b-4c15-907d-c0fb9f5c261e",
   "metadata": {},
   "outputs": [
    {
     "name": "stdout",
     "output_type": "stream",
     "text": [
      "{1, 2, 3, 4, 5, 6}\n"
     ]
    }
   ],
   "source": [
    "#set comprehensions\n",
    "unique_numbers={x for x in [1,1,1,2,3,4,5,6]}\n",
    "print(unique_numbers)"
   ]
  },
  {
   "cell_type": "code",
   "execution_count": 4,
   "id": "221a24bf-2d99-4f44-900c-d203cae5be1d",
   "metadata": {},
   "outputs": [
    {
     "data": {
      "text/plain": [
       "{0: 2, 1: 3, 2: 0, 3: 1, 4: 6}"
      ]
     },
     "execution_count": 4,
     "metadata": {},
     "output_type": "execute_result"
    }
   ],
   "source": [
    "# dictionary comprehention\n",
    "dictionary={x:x^2 for x in range(5)}\n",
    "dictionary"
   ]
  },
  {
   "cell_type": "markdown",
   "id": "81e9c126-a0c0-45c0-87b3-3d535fcdf0b5",
   "metadata": {},
   "source": [
    "<div style=\"text-align: center;\">\n",
    "  <h3><span style=\"color: #e28743;\"> The End </span></h3>\n",
    "</div>"
   ]
  }
 ],
 "metadata": {
  "kernelspec": {
   "display_name": "Python 3 (ipykernel)",
   "language": "python",
   "name": "python3"
  },
  "language_info": {
   "codemirror_mode": {
    "name": "ipython",
    "version": 3
   },
   "file_extension": ".py",
   "mimetype": "text/x-python",
   "name": "python",
   "nbconvert_exporter": "python",
   "pygments_lexer": "ipython3",
   "version": "3.13.1"
  }
 },
 "nbformat": 4,
 "nbformat_minor": 5
}
