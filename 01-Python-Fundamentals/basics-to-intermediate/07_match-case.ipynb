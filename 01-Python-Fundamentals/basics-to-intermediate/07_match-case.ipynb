{
 "cells": [
  {
   "cell_type": "markdown",
   "id": "d4eeeb7f-920c-449b-a580-d577d3c7ef92",
   "metadata": {},
   "source": [
    "---\n",
    "<h1 style=\"color: #e28743; text-align: center\">Match-Case in Python</h1>\n",
    "\n",
    "---"
   ]
  },
  {
   "cell_type": "markdown",
   "id": "f3b0a3ad-839b-4ed6-adae-f78d603fd57b",
   "metadata": {},
   "source": [
    "*The **match-case statement**, introduced in Python 3.10, provides pattern matching smilar to switch statements in other\n",
    "languages.*"
   ]
  },
  {
   "cell_type": "code",
   "execution_count": 10,
   "id": "a44dcebb-2f36-44a8-92ac-4b76d333b4a6",
   "metadata": {},
   "outputs": [],
   "source": [
    "def http_status(code):\n",
    "    match code:\n",
    "        case 200: \n",
    "            return \"Good to go !\"\n",
    "        case 400:\n",
    "            return \"Bad Request\"\n",
    "        case  404:\n",
    "            return \"Not Found\"\n",
    "        case _ : # this is the defualt case\n",
    "            return \"Unknown Status\"\n"
   ]
  },
  {
   "cell_type": "code",
   "execution_count": 11,
   "id": "a67db41b-07e2-4d24-9dda-2962c58aba42",
   "metadata": {},
   "outputs": [
    {
     "name": "stdout",
     "output_type": "stream",
     "text": [
      "Unknown Status\n"
     ]
    }
   ],
   "source": [
    "print(http_status(300))"
   ]
  },
  {
   "cell_type": "code",
   "execution_count": 21,
   "id": "c45e51fd-4a27-422b-b0bf-05a4711fb6cb",
   "metadata": {},
   "outputs": [
    {
     "name": "stdout",
     "output_type": "stream",
     "text": [
      "Unknown Status\n"
     ]
    }
   ],
   "source": [
    "print(http_status(\"404\"))"
   ]
  },
  {
   "cell_type": "markdown",
   "id": "7f1c01a4-0db5-403f-b748-ff87dd0b93fd",
   "metadata": {},
   "source": [
    "<h2 style=\"text-align: center; color: #A75CB3;\">Real world use case</h2>"
   ]
  },
  {
   "cell_type": "code",
   "execution_count": 20,
   "id": "7bb8093c-7b63-47d0-856a-393257e07556",
   "metadata": {},
   "outputs": [
    {
     "name": "stdin",
     "output_type": "stream",
     "text": [
      "Select an option:\n",
      " 1 for Deposit \n",
      " 2 for Withdraw \n",
      " 3 for Check Balance \n",
      " 4 for Exit\n",
      " 2\n"
     ]
    },
    {
     "name": "stdout",
     "output_type": "stream",
     "text": [
      "You chose to Withdraw.\n"
     ]
    }
   ],
   "source": [
    "### detect menu selection\n",
    "def selected(option):\n",
    "    match option:\n",
    "        case 1:\n",
    "            return \"You chose to Deposit.\"\n",
    "        case 2:\n",
    "            return \"You chose to Withdraw.\"\n",
    "        case 3:\n",
    "            return \"You chose to Check Balance.\"\n",
    "        case 4:\n",
    "            return \"You chose to Exit.\"\n",
    "        case _: \n",
    "            return \"Invalid option, please select again.\"\n",
    "\n",
    "op = int(input(\"Select an option:\\n 1 for Deposit \\n 2 for Withdraw \\n 3 for Check Balance \\n 4 for Exit\\n\"))\n",
    "result = selected(op)\n",
    "print(result)"
   ]
  },
  {
   "cell_type": "markdown",
   "id": "9a472917-ead4-4656-a438-6cd6dc39e06d",
   "metadata": {
    "jp-MarkdownHeadingCollapsed": true
   },
   "source": [
    "<div style=\"text-align: center;\">\n",
    "  <h3><span style=\"color: #e28743;\"> The End </span></h3>\n",
    "</div>"
   ]
  }
 ],
 "metadata": {
  "kernelspec": {
   "display_name": "Python 3 (ipykernel)",
   "language": "python",
   "name": "python3"
  },
  "language_info": {
   "codemirror_mode": {
    "name": "ipython",
    "version": 3
   },
   "file_extension": ".py",
   "mimetype": "text/x-python",
   "name": "python",
   "nbconvert_exporter": "python",
   "pygments_lexer": "ipython3",
   "version": "3.13.1"
  }
 },
 "nbformat": 4,
 "nbformat_minor": 5
}
