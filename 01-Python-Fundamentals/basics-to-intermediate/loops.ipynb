{
 "cells": [
  {
   "cell_type": "markdown",
   "id": "d086b2c2-58a8-4ba2-9e23-94ea7901cc78",
   "metadata": {},
   "source": [
    "---\n",
    "<h1 style=\"color: #e28743; text-align: center\">Loops in Python</h1>\n",
    "\n",
    "---"
   ]
  },
  {
   "cell_type": "markdown",
   "id": "87242d40-c697-4fda-a231-78cb85d77b8e",
   "metadata": {},
   "source": [
    "### <span style=\"color: #e28743;\">  1. For loop </span>"
   ]
  },
  {
   "cell_type": "markdown",
   "id": "e86582dc-ced3-4d0b-a3cf-da5d38c1aebe",
   "metadata": {},
   "source": [
    "*Python has two main loops: **for and while***"
   ]
  },
  {
   "cell_type": "code",
   "execution_count": 2,
   "id": "a792c67d-cfe7-45f2-bc82-2e10b458f391",
   "metadata": {},
   "outputs": [],
   "source": [
    "names =[\"akib\",\"osmani\",\"is\",\"learning\",\"loops\"]"
   ]
  },
  {
   "cell_type": "code",
   "execution_count": 9,
   "id": "3bed0642-9f85-4432-898c-f228683676c6",
   "metadata": {},
   "outputs": [
    {
     "name": "stdout",
     "output_type": "stream",
     "text": [
      "akib osmani is learning loops "
     ]
    }
   ],
   "source": [
    "for name in names:\n",
    "    print(name,end=\" \") #by end=\" \" we make spaces instead of deaful \"\\n\""
   ]
  },
  {
   "cell_type": "markdown",
   "id": "68261107-f1bc-4e8f-ba6a-5e4ac7ca286b",
   "metadata": {},
   "source": [
    "#### using range"
   ]
  },
  {
   "cell_type": "code",
   "execution_count": 12,
   "id": "fd4c8165-64f7-4fe8-89a3-e64c26939b65",
   "metadata": {},
   "outputs": [
    {
     "name": "stdout",
     "output_type": "stream",
     "text": [
      "0 1 2 "
     ]
    }
   ],
   "source": [
    "for i in range (3):  #this will run 0 to n-1 , range(default , 3)-> default=0\n",
    "    print(i,end=\" \")\n"
   ]
  },
  {
   "cell_type": "code",
   "execution_count": 17,
   "id": "07c8a3d6-938c-423f-b268-fc852e4ac53e",
   "metadata": {},
   "outputs": [
    {
     "name": "stdout",
     "output_type": "stream",
     "text": [
      "4 5 6 7 "
     ]
    }
   ],
   "source": [
    "for i in range (4,8): # from 4 to 8-1=7\n",
    "    print(i,end=\" \")"
   ]
  },
  {
   "cell_type": "code",
   "execution_count": 21,
   "id": "42a9d559-7836-42c1-9367-41930005a27a",
   "metadata": {},
   "outputs": [
    {
     "name": "stdout",
     "output_type": "stream",
     "text": [
      "0 2 4 6 8 10 "
     ]
    }
   ],
   "source": [
    "for i in range (0,11,2): # from 0 to less than 11 with step size 2\n",
    "    print(i,end=\" \")"
   ]
  },
  {
   "cell_type": "markdown",
   "id": "aae82d55-cea0-43bd-a51f-d34511ab1693",
   "metadata": {},
   "source": [
    "### <span style=\"color: #e28743;\">  2. While Loop</span>"
   ]
  },
  {
   "cell_type": "markdown",
   "id": "793faa7a-18df-447b-83c4-601b17e6c113",
   "metadata": {},
   "source": [
    "*Runs as long as a condition is True*"
   ]
  },
  {
   "cell_type": "code",
   "execution_count": 1,
   "id": "7ab1aba3-a88d-43fd-8165-4d0cc1d8bdc2",
   "metadata": {},
   "outputs": [
    {
     "name": "stdout",
     "output_type": "stream",
     "text": [
      "A K I B   O S M A N I "
     ]
    }
   ],
   "source": [
    "char_no=0\n",
    "str=\"AKIB OSMANI\"\n",
    "while char_no<len(str):\n",
    "    print(str[char_no],end=\" \")\n",
    "    char_no+=1"
   ]
  },
  {
   "cell_type": "markdown",
   "id": "d055f85b-c9cd-4dff-a0c5-a521b4d1eb1b",
   "metadata": {},
   "source": [
    "### <span style=\"color: #e28743;\">  3. Loop Control Statements</span>"
   ]
  },
  {
   "cell_type": "markdown",
   "id": "9afd93b2-04b4-423a-8ff5-a7961545ec80",
   "metadata": {},
   "source": [
    "- break -> exits the loop\n",
    "- continue -> skips to the next iteration\n",
    "- pass -> does nothing (used as a placeholder)"
   ]
  },
  {
   "cell_type": "code",
   "execution_count": 16,
   "id": "526f89c3-815e-4b4c-911b-aec12b00195a",
   "metadata": {},
   "outputs": [
    {
     "name": "stdout",
     "output_type": "stream",
     "text": [
      "0 1 2 3 4 5 "
     ]
    }
   ],
   "source": [
    "for i in range(0,10,1):\n",
    "    if (i==6):\n",
    "        break # breaks the loop and exit\n",
    "    print(i,end=\" \")"
   ]
  },
  {
   "cell_type": "code",
   "execution_count": 17,
   "id": "4d3aab93-0f49-4a42-8cf9-8a2a8ee07fbc",
   "metadata": {},
   "outputs": [
    {
     "name": "stdout",
     "output_type": "stream",
     "text": [
      "0 1 2 3 4 5 7 8 9 "
     ]
    }
   ],
   "source": [
    "for i in range(0,10,1):\n",
    "    if (i==6):\n",
    "        continue # skip the current iteration (i=6) and contiunue to iterate\n",
    "    print(i,end=\" \")"
   ]
  },
  {
   "cell_type": "code",
   "execution_count": 19,
   "id": "1bde971d-ffd5-456e-91cd-0e26e0e561de",
   "metadata": {},
   "outputs": [
    {
     "name": "stdout",
     "output_type": "stream",
     "text": [
      "Akib will complete the previous loop letter\n"
     ]
    }
   ],
   "source": [
    "for i in range(0,10,1):\n",
    "    pass # do nothing\n",
    "print(\"Akib will complete the previous loop letter\")"
   ]
  },
  {
   "cell_type": "code",
   "execution_count": 29,
   "id": "84c7957f-29a3-46b6-ae29-b553fde6653f",
   "metadata": {},
   "outputs": [
    {
     "name": "stdout",
     "output_type": "stream",
     "text": [
      "0 1 2 3 4 5 6 7 8 9 "
     ]
    }
   ],
   "source": [
    "for i in range(0,10,1):\n",
    "    if(i==4):\n",
    "     pass \n",
    "    print(i,end=\" \")"
   ]
  },
  {
   "cell_type": "code",
   "execution_count": null,
   "id": "0cbb496f-6267-4f76-8014-0346e99ea594",
   "metadata": {},
   "outputs": [],
   "source": []
  }
 ],
 "metadata": {
  "kernelspec": {
   "display_name": "Python 3 (ipykernel)",
   "language": "python",
   "name": "python3"
  },
  "language_info": {
   "codemirror_mode": {
    "name": "ipython",
    "version": 3
   },
   "file_extension": ".py",
   "mimetype": "text/x-python",
   "name": "python",
   "nbconvert_exporter": "python",
   "pygments_lexer": "ipython3",
   "version": "3.13.1"
  }
 },
 "nbformat": 4,
 "nbformat_minor": 5
}
