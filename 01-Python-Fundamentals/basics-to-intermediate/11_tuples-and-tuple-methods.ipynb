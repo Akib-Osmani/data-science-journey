{
 "cells": [
  {
   "cell_type": "markdown",
   "id": "10df09c3-6dc8-424b-ae5f-dbc6076ca818",
   "metadata": {},
   "source": [
    "---\n",
    "<h1 style=\"color: #e28743; text-align: center\"> Python Tuples and Tuple Methods</h1>\n",
    "\n",
    "---"
   ]
  },
  {
   "cell_type": "markdown",
   "id": "fedbcd0a-19d8-44df-926d-7977fbe62a54",
   "metadata": {},
   "source": [
    "*A tuple in Python is an **ordered, immutable** collection of elements. It is similar to a list but once created, its elements\n",
    "cannot be modified.*"
   ]
  },
  {
   "cell_type": "markdown",
   "id": "18620db7-6c33-4da5-9c49-f6084c0ffab0",
   "metadata": {},
   "source": [
    "### Why Use Tuples?\n",
    "- Faster than lists (since they are immutable)\n",
    "- Used as dictionary keys (since they are hashable)\n",
    "- Safe from unintended modifications\n"
   ]
  },
  {
   "cell_type": "markdown",
   "id": "38b67be2-6a5a-44ee-bb23-32549e463095",
   "metadata": {},
   "source": [
    "### Creating a Tuple "
   ]
  },
  {
   "cell_type": "code",
   "execution_count": 2,
   "id": "a10035ec-96f2-470a-afef-fe5afe7523c1",
   "metadata": {},
   "outputs": [],
   "source": [
    "# empty tuple\n",
    "empty_tuple=()"
   ]
  },
  {
   "cell_type": "code",
   "execution_count": 4,
   "id": "9e062f2c-3330-46f1-a1ec-695228c65658",
   "metadata": {},
   "outputs": [],
   "source": [
    "# tuple with elements \n",
    "numbers=(1,2,3,4,5,6)"
   ]
  },
  {
   "cell_type": "code",
   "execution_count": 5,
   "id": "49d008da-32de-4dc8-a37f-0630bf8bf80f",
   "metadata": {},
   "outputs": [],
   "source": [
    "# mixed data types\n",
    "mix_tuple=(1, \"AKIB OSMANI\",3.23,True)"
   ]
  },
  {
   "cell_type": "code",
   "execution_count": 6,
   "id": "a49d8363-2d43-4a29-b0ce-f269be650afb",
   "metadata": {},
   "outputs": [],
   "source": [
    "# single element tuple \n",
    "single_tuple=(43,) # here comma is necessary"
   ]
  },
  {
   "cell_type": "markdown",
   "id": "1a9a0567-17eb-4103-acb2-8c90f520fedc",
   "metadata": {},
   "source": [
    "### Accessing and Unpacking"
   ]
  },
  {
   "cell_type": "code",
   "execution_count": 10,
   "id": "c579990e-866b-49ce-852e-fd51a1a3b2b2",
   "metadata": {},
   "outputs": [
    {
     "data": {
      "text/plain": [
       "(1, 'AKIB OSMANI', (3.23, 4, 'Akib'), True)"
      ]
     },
     "execution_count": 10,
     "metadata": {},
     "output_type": "execute_result"
    }
   ],
   "source": [
    "Tuple=(1, \"AKIB OSMANI\",(3.23,4,\"Akib\"),True)\n",
    "Tuple"
   ]
  },
  {
   "cell_type": "code",
   "execution_count": 11,
   "id": "b963f920-21dd-4c07-82d2-a488e74b7d2a",
   "metadata": {},
   "outputs": [
    {
     "data": {
      "text/plain": [
       "1"
      ]
     },
     "execution_count": 11,
     "metadata": {},
     "output_type": "execute_result"
    }
   ],
   "source": [
    "Tuple[0]"
   ]
  },
  {
   "cell_type": "code",
   "execution_count": 12,
   "id": "ac90e1f6-3df4-4685-9ec3-c7f58cc225f2",
   "metadata": {},
   "outputs": [
    {
     "data": {
      "text/plain": [
       "3.23"
      ]
     },
     "execution_count": 12,
     "metadata": {},
     "output_type": "execute_result"
    }
   ],
   "source": [
    "Tuple[2][0]"
   ]
  },
  {
   "cell_type": "code",
   "execution_count": 17,
   "id": "2ae6dd52-ff9f-4b87-a5ec-f87161d763bb",
   "metadata": {},
   "outputs": [],
   "source": [
    "# unpacking the elements of a tuple\n",
    "student=(\"AKIB OSMANI\",23,\"AIUB\",\"2nd\")\n",
    "\n",
    "name,age,university,academic_year=student"
   ]
  },
  {
   "cell_type": "code",
   "execution_count": 18,
   "id": "3d187c4a-e4b8-4a70-9885-ad3c1b81f297",
   "metadata": {},
   "outputs": [
    {
     "name": "stdout",
     "output_type": "stream",
     "text": [
      "AKIB OSMANI is 23 years old and currently studing  AIUB (2nd year) \n"
     ]
    }
   ],
   "source": [
    "print(f\"{name} is {age} years old and currently studing  {university} ({academic_year} year) \")"
   ]
  },
  {
   "cell_type": "markdown",
   "id": "53ea9b7c-4a7c-42a7-913f-92c2f8f5c0c6",
   "metadata": {},
   "source": [
    "### Common Tuple methods"
   ]
  },
  {
   "cell_type": "code",
   "execution_count": 19,
   "id": "3015d806-4d7a-4964-bceb-d8c3e5cb2663",
   "metadata": {},
   "outputs": [],
   "source": [
    "# count method"
   ]
  },
  {
   "cell_type": "code",
   "execution_count": 23,
   "id": "c1bf1bc7-e740-4f6f-8ff5-f13802d8c9c9",
   "metadata": {},
   "outputs": [
    {
     "data": {
      "text/plain": [
       "4"
      ]
     },
     "execution_count": 23,
     "metadata": {},
     "output_type": "execute_result"
    }
   ],
   "source": [
    "ages=(23,43,23,23,4,53,23,44)\n",
    "ages.count(23)"
   ]
  },
  {
   "cell_type": "code",
   "execution_count": 27,
   "id": "63c4cffb-9f27-4e85-9886-5218742a2b2a",
   "metadata": {},
   "outputs": [
    {
     "data": {
      "text/plain": [
       "8"
      ]
     },
     "execution_count": 27,
     "metadata": {},
     "output_type": "execute_result"
    }
   ],
   "source": [
    "# len method\n",
    "len(ages)"
   ]
  },
  {
   "cell_type": "code",
   "execution_count": 53,
   "id": "4e8d2836-ace8-4124-9ffb-b7c622a00112",
   "metadata": {},
   "outputs": [
    {
     "data": {
      "text/plain": [
       "0"
      ]
     },
     "execution_count": 53,
     "metadata": {},
     "output_type": "execute_result"
    }
   ],
   "source": [
    "# index method\n",
    "ages.index(23) # first occurence"
   ]
  },
  {
   "cell_type": "markdown",
   "id": "bbfdf86f-48ae-429b-8cdf-62c4db528eb8",
   "metadata": {},
   "source": [
    "<div style=\"text-align: center;\">\n",
    "  <h3><span style=\"color: #e28743;\"> The End </span></h3>\n",
    "</div>"
   ]
  }
 ],
 "metadata": {
  "kernelspec": {
   "display_name": "Python 3 (ipykernel)",
   "language": "python",
   "name": "python3"
  },
  "language_info": {
   "codemirror_mode": {
    "name": "ipython",
    "version": 3
   },
   "file_extension": ".py",
   "mimetype": "text/x-python",
   "name": "python",
   "nbconvert_exporter": "python",
   "pygments_lexer": "ipython3",
   "version": "3.13.1"
  }
 },
 "nbformat": 4,
 "nbformat_minor": 5
}
