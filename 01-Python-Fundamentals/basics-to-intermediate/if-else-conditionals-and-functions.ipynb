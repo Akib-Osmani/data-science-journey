{
 "cells": [
  {
   "cell_type": "markdown",
   "id": "9dbbd2e3-bc17-4e34-81b0-36ab3b374ff9",
   "metadata": {},
   "source": [
    "---\n",
    "<h1 style=\"color: #e28743; text-align: center\"> If-elif-else Conditional Statement and Funtions</h1>\n",
    "\n",
    "---"
   ]
  },
  {
   "cell_type": "markdown",
   "id": "f4cc75fc-952f-43e8-b252-dac9c2cf9884",
   "metadata": {},
   "source": [
    "### <span style=\"color: #e28743;\">  If-Else Conditional statement </span>"
   ]
  },
  {
   "cell_type": "code",
   "execution_count": null,
   "id": "d06b5217-9ca3-4588-9183-c2a055885be3",
   "metadata": {},
   "outputs": [],
   "source": []
  },
  {
   "cell_type": "code",
   "execution_count": null,
   "id": "bf4c3e44-7bb2-489b-9d09-07267295a818",
   "metadata": {},
   "outputs": [],
   "source": []
  }
 ],
 "metadata": {
  "kernelspec": {
   "display_name": "Python 3 (ipykernel)",
   "language": "python",
   "name": "python3"
  },
  "language_info": {
   "codemirror_mode": {
    "name": "ipython",
    "version": 3
   },
   "file_extension": ".py",
   "mimetype": "text/x-python",
   "name": "python",
   "nbconvert_exporter": "python",
   "pygments_lexer": "ipython3",
   "version": "3.13.1"
  }
 },
 "nbformat": 4,
 "nbformat_minor": 5
}
