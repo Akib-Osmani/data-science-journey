{
 "cells": [
  {
   "cell_type": "markdown",
   "id": "b0258523-2a75-4b54-b845-871a96c67228",
   "metadata": {},
   "source": [
    "# Video 1: Welcome to CodeBook — Your Data Science Internship Begins!\n",
    "<h3> Introduction</h3>"
   ]
  },
  {
   "cell_type": "markdown",
   "id": "32c2a9e5-d9aa-4233-88b3-561b39a3dcea",
   "metadata": {},
   "source": [
    "Congratulations! You have just been hired as a **Data Scientist Intern** at **CodeBook — The Social Media for Coders.** This Dhaka\n",
    "based company is offering you a<br> **BDT 10 LPA** job if you successfully complete this **1-month internship.** But before you get there, you\n",
    "must prove your skills using **only Python** — *no pandas. NumPy, or fancy libraries!*\n"
   ]
  },
  {
   "cell_type": "markdown",
   "id": "adb00d60-7d7e-4afa-94e9-a11cf330c37f",
   "metadata": {},
   "source": [
    "Your manager **MD. Jubayer Karim** has assigned you your first task: analyzing a data dump of CodeBook users using pure python. Your\n",
    "job is to load and explore the data to understand its structure."
   ]
  },
  {
   "cell_type": "code",
   "execution_count": 5,
   "id": "1733a070-feb8-49e6-b54d-4c57a362d1a0",
   "metadata": {},
   "outputs": [],
   "source": [
    "import json"
   ]
  },
  {
   "cell_type": "code",
   "execution_count": 7,
   "id": "cb64ab6c-8e29-49e1-b0c0-e7c5fcebb397",
   "metadata": {},
   "outputs": [],
   "source": [
    "# creating a function that reads the data dumb from a json file\n",
    "def Load_Data(fileName) :\n",
    "    with open(fileName,\"r\") as file:\n",
    "        return json.load(file) # for loading the data from a file\n",
    "    "
   ]
  },
  {
   "cell_type": "code",
   "execution_count": 8,
   "id": "4d3fdd05-f1bf-486e-992c-1a1f490bff63",
   "metadata": {},
   "outputs": [
    {
     "data": {
      "text/plain": [
       "{'users': [{'id': 1, 'name': 'Akib', 'friends': [2, 3], 'liked_pages': [101]},\n",
       "  {'id': 2, 'name': 'Sakib', 'friends': [1, 4], 'liked_pages': [102]},\n",
       "  {'id': 3, 'name': 'Runa', 'friends': [1], 'liked_pages': [101, 103]},\n",
       "  {'id': 4, 'name': 'Zalal', 'friends': [2], 'liked_pages': [104]}],\n",
       " 'pages': [{'id': 101, 'name': 'Python Developers'},\n",
       "  {'id': 102, 'name': 'Data Science Enthusiasts'},\n",
       "  {'id': 103, 'name': 'AI & ML Community'},\n",
       "  {'id': 104, 'name': 'Web Dev Hub'}]}"
      ]
     },
     "execution_count": 8,
     "metadata": {},
     "output_type": "execute_result"
    }
   ],
   "source": [
    "data=Load_Data(\"01_data.json\")\n",
    "data"
   ]
  },
  {
   "cell_type": "code",
   "execution_count": 29,
   "id": "29f0375b-152d-4430-9038-214862e3a32f",
   "metadata": {},
   "outputs": [],
   "source": [
    "def display_users(data):\n",
    "    print(\"Users and their connection\\n\")\n",
    "    for user in data['users']:\n",
    "        print(f\"ID:{user['id']}. {user['name']} is friends with:{user['friends']} and liked pages are {user['liked_pages']}\")\n",
    "    \n",
    "    print(\"\\nPages information\\n\")\n",
    "    for page in data['pages']:\n",
    "        print(f\"{page['id']}:{page['name']}\")"
   ]
  },
  {
   "cell_type": "code",
   "execution_count": 30,
   "id": "8e21c889-a5fe-4159-948d-cd003d9aced6",
   "metadata": {},
   "outputs": [
    {
     "name": "stdout",
     "output_type": "stream",
     "text": [
      "Users and their connection\n",
      "\n",
      "ID:1. Akib is friends with:[2, 3] and liked pages are [101]\n",
      "ID:2. Sakib is friends with:[1, 4] and liked pages are [102]\n",
      "ID:3. Runa is friends with:[1] and liked pages are [101, 103]\n",
      "ID:4. Zalal is friends with:[2] and liked pages are [104]\n",
      "\n",
      "Pages information\n",
      "\n",
      "101:Python Developers\n",
      "102:Data Science Enthusiasts\n",
      "103:AI & ML Community\n",
      "104:Web Dev Hub\n"
     ]
    }
   ],
   "source": [
    "display_users(datas)"
   ]
  }
 ],
 "metadata": {
  "kernelspec": {
   "display_name": "Python 3 (ipykernel)",
   "language": "python",
   "name": "python3"
  },
  "language_info": {
   "codemirror_mode": {
    "name": "ipython",
    "version": 3
   },
   "file_extension": ".py",
   "mimetype": "text/x-python",
   "name": "python",
   "nbconvert_exporter": "python",
   "pygments_lexer": "ipython3",
   "version": "3.13.1"
  }
 },
 "nbformat": 4,
 "nbformat_minor": 5
}
