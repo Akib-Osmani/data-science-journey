{
 "cells": [
  {
   "cell_type": "markdown",
   "id": "ea21831f-88f3-47b6-9f48-5e6c4f96fdef",
   "metadata": {},
   "source": [
    "# Introduction\n",
    "Your manager is impressed with your progress but points out that the data is messy. <br> Before we can analyze it effectively, we need to **clean and structure the data** properly.\n",
    "\n",
    "## Your task is to:\n",
    "- Handle missing values\n",
    "- Remove duplicate or inconsistent data\n",
    "- Standardize the data format<br>\n",
    "Let's get started!"
   ]
  },
  {
   "cell_type": "markdown",
   "id": "f9af35f0-286a-4ca3-b2eb-2f91f54c6480",
   "metadata": {},
   "source": [
    "# Task 1: Identify Issues in the Data\n",
    "<h3 > Your manager provides you with an example dataset where some records are incomplete or incorrect.Here's an example</h3>\n",
    "<pre>\n",
    "{\n",
    "    \"users\": [\n",
    "        {\"id\": 1, \"name\": \"Amit\", \"friends\": [2, 3], \"liked_pages\": [101]},\n",
    "        {\"id\": 2, \"name\": \"Priya\", \"friends\": [1, 4], \"liked_pages\": [102]},\n",
    "        {\"id\": 3, \"name\": \"\", \"friends\": [1], \"liked_pages\": [101, 103]},\n",
    "        {\"id\": 4, \"name\": \"Sara\", \"friends\": [2, 2], \"liked_pages\": [104]},\n",
    "        {\"id\": 5, \"name\": \"Amit\", \"friends\": [], \"liked_pages\": []}\n",
    "    ],\n",
    "    \"pages\": [\n",
    "        {\"id\": 101, \"name\": \"Python Developers\"},\n",
    "        {\"id\": 102, \"name\": \"Data Science Enthusiasts\"},\n",
    "        {\"id\": 103, \"name\": \"AI & ML Community\"},\n",
    "        {\"id\": 104, \"name\": \"Web Dev Hub\"},\n",
    "        {\"id\": 104, \"name\": \"Web Development\"}\n",
    "    ]\n",
    "}   \n",
    "</pre>\n"
   ]
  },
  {
   "cell_type": "markdown",
   "id": "111d5472-91bd-4ae2-bbb7-8a03a2446506",
   "metadata": {},
   "source": [
    "Problems:\n",
    "\n",
    "**1.** User **ID 3** has an empty name.<br>\n",
    "**2.** User **ID 4** has a duplicate friend entry.<br>\n",
    "**3.** User **ID 5** has no connections or liked pages (inactive user).<br>\n",
    "**4.** The **pages list** contains duplicate page IDs.   <br>\n",
    "\n"
   ]
  },
  {
   "cell_type": "code",
   "execution_count": null,
   "id": "5c3329f9-8a6e-4ccc-88bb-1462425b272f",
   "metadata": {},
   "outputs": [],
   "source": []
  },
  {
   "cell_type": "code",
   "execution_count": 17,
   "id": "a7528867-6d49-46cc-9683-c54e684d7af0",
   "metadata": {},
   "outputs": [],
   "source": [
    "import json"
   ]
  },
  {
   "cell_type": "code",
   "execution_count": 18,
   "id": "aac55547-7bab-4197-a6f0-e498eba101c9",
   "metadata": {},
   "outputs": [],
   "source": [
    "def loadData(filename) :\n",
    "    with open(filename,\"r\") as f :\n",
    "     data=json.load(f)\n",
    "    return data"
   ]
  },
  {
   "cell_type": "code",
   "execution_count": 19,
   "id": "b2d1eae2-c049-4f19-b496-92ebaee0f5e3",
   "metadata": {},
   "outputs": [],
   "source": [
    "data=loadData(\"02_dump-data.json\")"
   ]
  },
  {
   "cell_type": "code",
   "execution_count": 20,
   "id": "36489465-5fc8-4ee5-8bf4-e00691c3682f",
   "metadata": {},
   "outputs": [
    {
     "data": {
      "text/plain": [
       "{'users': [{'id': 1, 'name': 'Akib', 'friends': [2, 3], 'liked_pages': [101]},\n",
       "  {'id': 2, 'name': 'Sakib', 'friends': [1, 4], 'liked_pages': [102]},\n",
       "  {'id': 3, 'name': '', 'friends': [1], 'liked_pages': [101, 103]},\n",
       "  {'id': 4, 'name': 'Runa', 'friends': [2, 2], 'liked_pages': [104]},\n",
       "  {'id': 5, 'name': 'Nisan', 'friends': [], 'liked_pages': []}],\n",
       " 'pages': [{'id': 101, 'name': 'Python Developers'},\n",
       "  {'id': 102, 'name': 'Data Science Enthusiasts'},\n",
       "  {'id': 103, 'name': 'AI & ML Community'},\n",
       "  {'id': 104, 'name': 'Web Dev Hub'},\n",
       "  {'id': 104, 'name': 'Web Development'}]}"
      ]
     },
     "execution_count": 20,
     "metadata": {},
     "output_type": "execute_result"
    }
   ],
   "source": [
    "data"
   ]
  },
  {
   "cell_type": "code",
   "execution_count": 26,
   "id": "c28e8abb-6e9a-41a0-9431-6568e1f22ffb",
   "metadata": {},
   "outputs": [],
   "source": [
    "def cleanedData(filename) :\n",
    "   \n",
    "    #remove the users with missing name\n",
    "    data['users']=[u for u in data['users'] if u['name'].strip()] \n",
    "    \n",
    "    # removing duplicate friend entry\n",
    "    for user in data['users']:\n",
    "        user['friends']= list(set(user[\"friends\"]))\n",
    "        \n",
    "    # removing no connection or liked pages\n",
    "    data['users']=[u for u in data['users'] if u['friends'] or u['liked_pages'] ] #truthly or falsely behavior\n",
    "    \n",
    "    #removing duplicate page list\n",
    "    unique={}\n",
    "    for page in data['pages']:\n",
    "        #dictionary will overwrite duplicate the keys \n",
    "        unique[page['id']]=page # stored a full set => unique[101]={\"id\":101,\"name\":\"Python Developer\"}\n",
    "    data['pages']=list(unique.values())\n",
    "    \n",
    "    return data\n",
    "        \n"
   ]
  },
  {
   "cell_type": "code",
   "execution_count": 27,
   "id": "8ffd7c78-cd9f-49e4-a0d8-df129df15af9",
   "metadata": {},
   "outputs": [],
   "source": [
    "cleaned_data=cleanedData(\"02_dump-data.json\")"
   ]
  },
  {
   "cell_type": "code",
   "execution_count": 28,
   "id": "dafd40b9-8197-4c55-9ea2-5ceab7b496d6",
   "metadata": {},
   "outputs": [],
   "source": [
    "json.dump(cleaned_data,open(\"02_dump-data.json\",\"w\"))"
   ]
  },
  {
   "cell_type": "code",
   "execution_count": 29,
   "id": "07aaee31-0aab-4ebb-af17-5696a7b226d0",
   "metadata": {},
   "outputs": [
    {
     "data": {
      "text/plain": [
       "{'users': [{'id': 1, 'name': 'Akib', 'friends': [2, 3], 'liked_pages': [101]},\n",
       "  {'id': 2, 'name': 'Sakib', 'friends': [1, 4], 'liked_pages': [102]},\n",
       "  {'id': 4, 'name': 'Runa', 'friends': [2], 'liked_pages': [104]}],\n",
       " 'pages': [{'id': 101, 'name': 'Python Developers'},\n",
       "  {'id': 102, 'name': 'Data Science Enthusiasts'},\n",
       "  {'id': 103, 'name': 'AI & ML Community'},\n",
       "  {'id': 104, 'name': 'Web Development'}]}"
      ]
     },
     "execution_count": 29,
     "metadata": {},
     "output_type": "execute_result"
    }
   ],
   "source": [
    "cleaned_data"
   ]
  },
  {
   "cell_type": "code",
   "execution_count": null,
   "id": "cf86632f-7918-40b8-9eab-44ba47bff8eb",
   "metadata": {},
   "outputs": [],
   "source": []
  }
 ],
 "metadata": {
  "kernelspec": {
   "display_name": "Python 3 (ipykernel)",
   "language": "python",
   "name": "python3"
  },
  "language_info": {
   "codemirror_mode": {
    "name": "ipython",
    "version": 3
   },
   "file_extension": ".py",
   "mimetype": "text/x-python",
   "name": "python",
   "nbconvert_exporter": "python",
   "pygments_lexer": "ipython3",
   "version": "3.13.1"
  }
 },
 "nbformat": 4,
 "nbformat_minor": 5
}
