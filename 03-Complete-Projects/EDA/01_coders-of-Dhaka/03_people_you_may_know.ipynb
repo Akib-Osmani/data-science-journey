{
 "cells": [
  {
   "cell_type": "markdown",
   "id": "f21df14c-4423-425a-89a3-2d1a4fe293a4",
   "metadata": {},
   "source": [
    "# Introduction\n",
    "*Your manager is impressed with your progress and you've gained a solid repotation. Now he have assigned you a big task for you.He said \"Akib, Can you implement people you may know feature using pure Python and you accepted the challenge.*"
   ]
  },
  {
   "cell_type": "code",
   "execution_count": 2,
   "id": "d055f7be-a7f3-4965-a2b7-43df7a279af8",
   "metadata": {},
   "outputs": [],
   "source": [
    " import json"
   ]
  },
  {
   "cell_type": "code",
   "execution_count": 3,
   "id": "60c633c3-5780-4a20-a68a-2c2db75cfbf9",
   "metadata": {},
   "outputs": [],
   "source": [
    "def loadData(filename):\n",
    "    with open(filename,\"r\") as f:\n",
    "        return json.load(f)"
   ]
  },
  {
   "cell_type": "code",
   "execution_count": 4,
   "id": "34699296-15c6-4c33-8dba-65b9ede5133f",
   "metadata": {
    "scrolled": true
   },
   "outputs": [],
   "source": [
    "data=loadData(\"03_massive_data.json\")"
   ]
  },
  {
   "cell_type": "code",
   "execution_count": 13,
   "id": "a9eb72bc-5f06-4d10-8ebf-9354edb6d6af",
   "metadata": {},
   "outputs": [],
   "source": [
    "def findPeopleYouMayKnow(userId,data):\n",
    "    # storing unique friends list of the user\n",
    "    userFirends={}\n",
    "    for user in data['users']:\n",
    "        userFirends[user['id']]=set(user['friends'])\n",
    "    # checking whether user_id is not a key in the dictionary user_friends\n",
    "    if userId not in userFirends:\n",
    "        return []\n",
    "    directFriends=userFirends[userId] # let {2,3,4,5,6}\n",
    "    suggestions={}\n",
    "    for friend in directFriends: # 2,....\n",
    "        for mutual in userFirends[friend]: # userFriends[2]\n",
    "            if mutual != userId and mutual not in directFriends: #  eliminating the vice-versa count\n",
    "                # count mitual friends\n",
    "                suggestions[mutual]=suggestions.get(mutual,0)+1\n",
    "    sortedSuggestions=sorted(suggestions.items(),key=lambda x:x[1],reverse=True) # sorting in decreasing order in terms of vvalue\n",
    "    return [userId for userId, _ in sortedSuggestions]"
   ]
  },
  {
   "cell_type": "code",
   "execution_count": 14,
   "id": "a192d9bc-ecb3-4fab-8f23-d2e20b5c43fb",
   "metadata": {},
   "outputs": [],
   "source": [
    "userId=1\n",
    "recommendations=findPeopleYouMayKnow(userId,data)"
   ]
  },
  {
   "cell_type": "code",
   "execution_count": 15,
   "id": "7633116e-b821-4dac-89d4-408f0471d5e8",
   "metadata": {},
   "outputs": [
    {
     "name": "stdout",
     "output_type": "stream",
     "text": [
      "[7, 8, 9, 10, 11, 12]\n"
     ]
    }
   ],
   "source": [
    "print(recommendations)"
   ]
  },
  {
   "cell_type": "code",
   "execution_count": null,
   "id": "531a91e3-82cb-4c7c-8346-6005d266f45d",
   "metadata": {},
   "outputs": [],
   "source": []
  }
 ],
 "metadata": {
  "kernelspec": {
   "display_name": "Python 3 (ipykernel)",
   "language": "python",
   "name": "python3"
  },
  "language_info": {
   "codemirror_mode": {
    "name": "ipython",
    "version": 3
   },
   "file_extension": ".py",
   "mimetype": "text/x-python",
   "name": "python",
   "nbconvert_exporter": "python",
   "pygments_lexer": "ipython3",
   "version": "3.13.1"
  }
 },
 "nbformat": 4,
 "nbformat_minor": 5
}
