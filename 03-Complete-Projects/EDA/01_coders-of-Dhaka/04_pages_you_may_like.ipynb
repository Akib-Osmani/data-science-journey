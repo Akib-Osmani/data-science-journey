{
 "cells": [
  {
   "cell_type": "markdown",
   "id": "7a0ddd27-8b9a-48a4-b291-8dc94a4dbadf",
   "metadata": {},
   "source": [
    "# Introduction\n",
    "Your manager is impressed with the 'People You May Know' feature you've developed, which has already started **generating significant value** for the company. As a result, he has entrusted you with a new, high-impact project: building the **'Pages You May Like'** recommendation system. If you succeed, he’s ready to offer you a **15 LPA** position at the company.\""
   ]
  },
  {
   "cell_type": "code",
   "execution_count": 17,
   "id": "fc20b8ef-9053-4472-bfd0-97d9f4c65179",
   "metadata": {},
   "outputs": [],
   "source": [
    "import json"
   ]
  },
  {
   "cell_type": "code",
   "execution_count": 18,
   "id": "70ba227c-c77e-4bc8-9a5c-f6d90aecf344",
   "metadata": {},
   "outputs": [],
   "source": [
    "def LoadData(fileName):\n",
    "    with open(fileName,\"r\") as f:\n",
    "        return json.load(f)"
   ]
  },
  {
   "cell_type": "code",
   "execution_count": 19,
   "id": "4c4847fe-df3b-4e61-a2f6-cc5f4811cf43",
   "metadata": {},
   "outputs": [],
   "source": [
    "data=LoadData(\"03_massive_data.json\")"
   ]
  },
  {
   "cell_type": "code",
   "execution_count": 20,
   "id": "617de788-bd9b-40c6-8fc1-3827695567d0",
   "metadata": {},
   "outputs": [],
   "source": [
    "# function to find pages you may like based on common interest "
   ]
  },
  {
   "cell_type": "code",
   "execution_count": 32,
   "id": "8914c8aa-08fb-42af-b851-24938959ba34",
   "metadata": {},
   "outputs": [],
   "source": [
    "def PagesYouMayLike(userId,data):\n",
    "    #dictionary to store user interaction\n",
    "    userPages={}\n",
    "    # populate the dictionary\n",
    "    for user in data['users']:\n",
    "        userPages[user['id']]=set(user['liked_pages'])\n",
    "    # if user is not found ,return empty list\n",
    "    if userId not in userPages:\n",
    "        return []\n",
    "    userLikedPages=userPages[userId]\n",
    "    pagesSuggestions={}\n",
    "\n",
    "    for otherUser,pages in userPages.items():\n",
    "        if otherUser!=userId:\n",
    "            sharedPages=userLikedPages.intersection(pages)\n",
    "        for page in pages:\n",
    "            if page not in userLikedPages:\n",
    "                pagesSuggestions[page]=pagesSuggestions.get(page,0)+len(sharedPages)\n",
    "    sortedPages=sorted(pagesSuggestions.items(),key=lambda x:x[1] ,reverse=True)\n",
    "    return [(pageId,score) for pageId,score in sortedPages]\n",
    "    "
   ]
  },
  {
   "cell_type": "code",
   "execution_count": 33,
   "id": "b7b4dfe6-dcae-48cf-8030-5a881449d46c",
   "metadata": {},
   "outputs": [
    {
     "name": "stdout",
     "output_type": "stream",
     "text": [
      "[(103, 2), (105, 1), (107, 1), (104, 0), (106, 0), (108, 0), (109, 0), (110, 0), (111, 0), (112, 0), (113, 0), (114, 0), (115, 0), (116, 0), (117, 0), (118, 0), (119, 0), (120, 0), (121, 0), (122, 0), (123, 0), (124, 0), (125, 0), (126, 0), (127, 0)]\n"
     ]
    }
   ],
   "source": [
    "userId=1\n",
    "pageRecommendation=PagesYouMayLike(userId,data)\n",
    "print(pageRecommendation)"
   ]
  },
  {
   "cell_type": "code",
   "execution_count": null,
   "id": "afe4b584-9e08-4226-8e0c-f122a6c80c9b",
   "metadata": {},
   "outputs": [],
   "source": []
  }
 ],
 "metadata": {
  "kernelspec": {
   "display_name": "Python 3 (ipykernel)",
   "language": "python",
   "name": "python3"
  },
  "language_info": {
   "codemirror_mode": {
    "name": "ipython",
    "version": 3
   },
   "file_extension": ".py",
   "mimetype": "text/x-python",
   "name": "python",
   "nbconvert_exporter": "python",
   "pygments_lexer": "ipython3",
   "version": "3.13.1"
  }
 },
 "nbformat": 4,
 "nbformat_minor": 5
}
